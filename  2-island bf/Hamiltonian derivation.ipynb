{
 "cells": [
  {
   "cell_type": "code",
   "execution_count": 1,
   "metadata": {},
   "outputs": [
    {
     "name": "stdout",
     "output_type": "stream",
     "text": [
      "Warning: Cannot change to a different GUI toolkit: notebook. Using widget instead.\n"
     ]
    }
   ],
   "source": [
    "%matplotlib widget\n",
    "%matplotlib notebook\n",
    "%load_ext autoreload\n",
    "%autoreload 2\n",
    "\n",
    "import matplotlib as mpt\n",
    "import matplotlib.pyplot as plt\n",
    "\n",
    "\n",
    "\n",
    "\n",
    "import numpy as np\n",
    "import sympy as sp"
   ]
  },
  {
   "cell_type": "code",
   "execution_count": 2,
   "metadata": {},
   "outputs": [],
   "source": [
    "\n",
    "def LtoH( L, dotvar_list ):\n",
    "\n",
    "    Lds = dict()\n",
    "    ps  = dict()\n",
    "    \n",
    "    H = 0\n",
    "  \n",
    "    \n",
    "    for dotvar in dotvar_list :\n",
    "        (Lds[dotvar]) = sp.Derivative(L, dotvar, evaluate = True)\n",
    "        ps[dotvar] = sp.symbols('p_'+dotvar.name)\n",
    "\n",
    "    vars_ = sp.solve( [Lds[dotvar] - ps[dotvar] for dotvar in dotvar_list]  , dotvar_list)\n",
    "    \n",
    "    \n",
    "    \n",
    "    for dotvar in dotvar_list :\n",
    "        H += ps[dotvar] * vars_[dotvar] \n",
    "\n",
    "    H -= L    \n",
    "\n",
    "    for dotvar in dotvar_list :\n",
    "        H = H.subs(dotvar,  vars_[dotvar] )\n",
    "\n",
    "        \n",
    "    return H, ps\n",
    "\n"
   ]
  },
  {
   "cell_type": "code",
   "execution_count": 323,
   "metadata": {},
   "outputs": [
    {
     "data": {
      "text/latex": [
       "$\\displaystyle \\dot{\\psi}$"
      ],
      "text/plain": [
       "\\dot{\\psi}"
      ]
     },
     "execution_count": 323,
     "metadata": {},
     "output_type": "execute_result"
    }
   ],
   "source": [
    "sp.symbols('\\dot{\\psi}')"
   ]
  },
  {
   "cell_type": "code",
   "execution_count": 3,
   "metadata": {},
   "outputs": [],
   "source": [
    "xo, yo, zo = sp.symbols('\\dot{\\phi_1} \\dot{\\phi_2} \\dot{\\psi}')\n",
    "\n",
    "Cj, C0, Cg, V, G = sp.symbols('C_j C_0 C_g V G')\n",
    "\n",
    "L = sp.symbols('L ', cls=sp.Function)\n",
    "\n",
    "L = Cj*(xo-zo)**2 +Cj*(xo+zo)**2 + Cg*(xo - V)**2\n",
    "dotvar_list = [xo, zo] \n",
    "\n",
    "\n",
    "L = Cj*(xo - zo)**2 + Cj*(xo - yo)**2 + Cj*(yo + zo)**2 + Cg*(xo - V)**2 + Cg*(yo - G)**2 #+  C0*(zo**2 )\n",
    "dotvar_list = [xo, yo, zo]\n",
    "\n",
    "H ,ps = LtoH( L, dotvar_list )\n",
    "\n",
    "\n"
   ]
  },
  {
   "cell_type": "code",
   "execution_count": 22,
   "metadata": {},
   "outputs": [
    {
     "data": {
      "text/latex": [
       "$\\displaystyle C_{g} \\left(- G + \\dot{\\phi_2}\\right)^{2} + C_{g} \\left(- V + \\dot{\\phi_1}\\right)^{2} + C_{j} \\left(\\dot{\\phi_1} - \\dot{\\phi_2}\\right)^{2} + C_{j} \\left(\\dot{\\phi_1} - \\dot{\\psi}\\right)^{2} + C_{j} \\left(\\dot{\\phi_2} + \\dot{\\psi}\\right)^{2}$"
      ],
      "text/plain": [
       "C_g*(-G + \\dot{\\phi_2})**2 + C_g*(-V + \\dot{\\phi_1})**2 + C_j*(\\dot{\\phi_1} - \\dot{\\phi_2})**2 + C_j*(\\dot{\\phi_1} - \\dot{\\psi})**2 + C_j*(\\dot{\\phi_2} + \\dot{\\psi})**2"
      ]
     },
     "execution_count": 22,
     "metadata": {},
     "output_type": "execute_result"
    }
   ],
   "source": [
    "L"
   ]
  },
  {
   "cell_type": "code",
   "execution_count": 10,
   "metadata": {},
   "outputs": [
    {
     "data": {
      "text/latex": [
       "$\\displaystyle - \\frac{12 C_{g}^{2} C_{j}^{2} G^{2} - 8 C_{g}^{2} C_{j}^{2} G V + 12 C_{g}^{2} C_{j}^{2} V^{2} - 8 C_{g}^{2} C_{j} G p_\\dot{\\phi_2} + 4 C_{g}^{2} C_{j} G p_\\dot{\\psi} - 8 C_{g}^{2} C_{j} V p_\\dot{\\phi_1} - 4 C_{g}^{2} C_{j} V p_\\dot{\\psi} - C_{g}^{2} p_\\dot{\\psi}^{2} + 16 C_{g} C_{j}^{3} G^{2} + 16 C_{g} C_{j}^{3} V^{2} - 4 C_{g} C_{j}^{2} G p_\\dot{\\phi_1} - 12 C_{g} C_{j}^{2} G p_\\dot{\\phi_2} + 4 C_{g} C_{j}^{2} G p_\\dot{\\psi} - 12 C_{g} C_{j}^{2} V p_\\dot{\\phi_1} - 4 C_{g} C_{j}^{2} V p_\\dot{\\phi_2} - 4 C_{g} C_{j}^{2} V p_\\dot{\\psi} - 2 C_{g} C_{j} p_\\dot{\\phi_1}^{2} - 2 C_{g} C_{j} p_\\dot{\\phi_1} p_\\dot{\\psi} - 2 C_{g} C_{j} p_\\dot{\\phi_2}^{2} + 2 C_{g} C_{j} p_\\dot{\\phi_2} p_\\dot{\\psi} - 4 C_{g} C_{j} p_\\dot{\\psi}^{2} - 3 C_{j}^{2} p_\\dot{\\phi_1}^{2} - 2 C_{j}^{2} p_\\dot{\\phi_1} p_\\dot{\\phi_2} - 2 C_{j}^{2} p_\\dot{\\phi_1} p_\\dot{\\psi} - 3 C_{j}^{2} p_\\dot{\\phi_2}^{2} + 2 C_{j}^{2} p_\\dot{\\phi_2} p_\\dot{\\psi} - 3 C_{j}^{2} p_\\dot{\\psi}^{2}}{8 C_{j} \\left(C_{g} + C_{j}\\right) \\left(C_{g} + 2 C_{j}\\right)}$"
      ],
      "text/plain": [
       "-(12*C_g**2*C_j**2*G**2 - 8*C_g**2*C_j**2*G*V + 12*C_g**2*C_j**2*V**2 - 8*C_g**2*C_j*G*p_\\dot{\\phi_2} + 4*C_g**2*C_j*G*p_\\dot{\\psi} - 8*C_g**2*C_j*V*p_\\dot{\\phi_1} - 4*C_g**2*C_j*V*p_\\dot{\\psi} - C_g**2*p_\\dot{\\psi}**2 + 16*C_g*C_j**3*G**2 + 16*C_g*C_j**3*V**2 - 4*C_g*C_j**2*G*p_\\dot{\\phi_1} - 12*C_g*C_j**2*G*p_\\dot{\\phi_2} + 4*C_g*C_j**2*G*p_\\dot{\\psi} - 12*C_g*C_j**2*V*p_\\dot{\\phi_1} - 4*C_g*C_j**2*V*p_\\dot{\\phi_2} - 4*C_g*C_j**2*V*p_\\dot{\\psi} - 2*C_g*C_j*p_\\dot{\\phi_1}**2 - 2*C_g*C_j*p_\\dot{\\phi_1}*p_\\dot{\\psi} - 2*C_g*C_j*p_\\dot{\\phi_2}**2 + 2*C_g*C_j*p_\\dot{\\phi_2}*p_\\dot{\\psi} - 4*C_g*C_j*p_\\dot{\\psi}**2 - 3*C_j**2*p_\\dot{\\phi_1}**2 - 2*C_j**2*p_\\dot{\\phi_1}*p_\\dot{\\phi_2} - 2*C_j**2*p_\\dot{\\phi_1}*p_\\dot{\\psi} - 3*C_j**2*p_\\dot{\\phi_2}**2 + 2*C_j**2*p_\\dot{\\phi_2}*p_\\dot{\\psi} - 3*C_j**2*p_\\dot{\\psi}**2)/(8*C_j*(C_g + C_j)*(C_g + 2*C_j))"
      ]
     },
     "execution_count": 10,
     "metadata": {},
     "output_type": "execute_result"
    }
   ],
   "source": [
    "Hf = H.factor()\n",
    "Hf"
   ]
  },
  {
   "cell_type": "code",
   "execution_count": 28,
   "metadata": {},
   "outputs": [
    {
     "data": {
      "text/latex": [
       "$\\displaystyle - \\frac{12 C_{g}^{2} C_{j}^{2} G^{2} - 8 C_{g}^{2} C_{j}^{2} G V + 12 C_{g}^{2} C_{j}^{2} V^{2} - 8 C_{g}^{2} C_{j} G p_\\dot{\\phi_2} + 4 C_{g}^{2} C_{j} G p_\\dot{\\psi} - 4 C_{g}^{2} C_{j} V p_\\dot{\\psi} - C_{g}^{2} p_\\dot{\\psi}^{2} + 16 C_{g} C_{j}^{3} G^{2} + 16 C_{g} C_{j}^{3} V^{2} - 12 C_{g} C_{j}^{2} G p_\\dot{\\phi_2} + 4 C_{g} C_{j}^{2} G p_\\dot{\\psi} - 4 C_{g} C_{j}^{2} V p_\\dot{\\phi_2} - 4 C_{g} C_{j}^{2} V p_\\dot{\\psi} - 2 C_{g} C_{j} p_\\dot{\\phi_2}^{2} + 2 C_{g} C_{j} p_\\dot{\\phi_2} p_\\dot{\\psi} - 4 C_{g} C_{j} p_\\dot{\\psi}^{2} - 3 C_{j}^{2} p_\\dot{\\phi_2}^{2} + 2 C_{j}^{2} p_\\dot{\\phi_2} p_\\dot{\\psi} - 3 C_{j}^{2} p_\\dot{\\psi}^{2} + p_\\dot{\\phi_1}^{2} \\left(- 2 C_{g} C_{j} - 3 C_{j}^{2}\\right) + p_\\dot{\\phi_1} \\left(- 8 C_{g}^{2} C_{j} V - 4 C_{g} C_{j}^{2} G - 12 C_{g} C_{j}^{2} V - 2 C_{g} C_{j} p_\\dot{\\psi} - 2 C_{j}^{2} p_\\dot{\\phi_2} - 2 C_{j}^{2} p_\\dot{\\psi}\\right)}{8 C_{j} \\left(C_{g} + C_{j}\\right) \\left(C_{g} + 2 C_{j}\\right)}$"
      ],
      "text/plain": [
       "-(12*C_g**2*C_j**2*G**2 - 8*C_g**2*C_j**2*G*V + 12*C_g**2*C_j**2*V**2 - 8*C_g**2*C_j*G*p_\\dot{\\phi_2} + 4*C_g**2*C_j*G*p_\\dot{\\psi} - 4*C_g**2*C_j*V*p_\\dot{\\psi} - C_g**2*p_\\dot{\\psi}**2 + 16*C_g*C_j**3*G**2 + 16*C_g*C_j**3*V**2 - 12*C_g*C_j**2*G*p_\\dot{\\phi_2} + 4*C_g*C_j**2*G*p_\\dot{\\psi} - 4*C_g*C_j**2*V*p_\\dot{\\phi_2} - 4*C_g*C_j**2*V*p_\\dot{\\psi} - 2*C_g*C_j*p_\\dot{\\phi_2}**2 + 2*C_g*C_j*p_\\dot{\\phi_2}*p_\\dot{\\psi} - 4*C_g*C_j*p_\\dot{\\psi}**2 - 3*C_j**2*p_\\dot{\\phi_2}**2 + 2*C_j**2*p_\\dot{\\phi_2}*p_\\dot{\\psi} - 3*C_j**2*p_\\dot{\\psi}**2 + p_\\dot{\\phi_1}**2*(-2*C_g*C_j - 3*C_j**2) + p_\\dot{\\phi_1}*(-8*C_g**2*C_j*V - 4*C_g*C_j**2*G - 12*C_g*C_j**2*V - 2*C_g*C_j*p_\\dot{\\psi} - 2*C_j**2*p_\\dot{\\phi_2} - 2*C_j**2*p_\\dot{\\psi}))/(8*C_j*(C_g + C_j)*(C_g + 2*C_j))"
      ]
     },
     "execution_count": 28,
     "metadata": {},
     "output_type": "execute_result"
    }
   ],
   "source": [
    "Hf.collect(ps[xo]*ps[xo])"
   ]
  },
  {
   "cell_type": "code",
   "execution_count": 50,
   "metadata": {},
   "outputs": [
    {
     "data": {
      "text/latex": [
       "$\\displaystyle \\frac{- 12 C_{g}^{2} C_{j}^{2} G^{2} + 8 C_{g}^{2} C_{j}^{2} G V - 12 C_{g}^{2} C_{j}^{2} V^{2} + 8 C_{g}^{2} C_{j} G p_\\dot{\\phi_2} - 4 C_{g}^{2} C_{j} G p_\\dot{\\psi} + 8 C_{g}^{2} C_{j} V p_\\dot{\\phi_1} + 4 C_{g}^{2} C_{j} V p_\\dot{\\psi} + C_{g}^{2} p_\\dot{\\psi}^{2} - 16 C_{g} C_{j}^{3} G^{2} - 16 C_{g} C_{j}^{3} V^{2} + 4 C_{g} C_{j}^{2} G p_\\dot{\\phi_1} + 12 C_{g} C_{j}^{2} G p_\\dot{\\phi_2} - 4 C_{g} C_{j}^{2} G p_\\dot{\\psi} + 12 C_{g} C_{j}^{2} V p_\\dot{\\phi_1} + 4 C_{g} C_{j}^{2} V p_\\dot{\\phi_2} + 4 C_{g} C_{j}^{2} V p_\\dot{\\psi} + 2 C_{g} C_{j} p_\\dot{\\phi_1}^{2} + 2 C_{g} C_{j} p_\\dot{\\phi_2}^{2} + 4 C_{g} C_{j} p_\\dot{\\psi}^{2} + 3 C_{j}^{2} p_\\dot{\\phi_1}^{2} + 2 C_{j}^{2} p_\\dot{\\phi_1} p_\\dot{\\phi_2} + 3 C_{j}^{2} p_\\dot{\\phi_2}^{2} + 3 C_{j}^{2} p_\\dot{\\psi}^{2} + p_\\dot{\\phi_1} p_\\dot{\\psi} \\left(2 C_{g} C_{j} + 2 C_{j}^{2}\\right) + p_\\dot{\\phi_2} p_\\dot{\\psi} \\left(- 2 C_{g} C_{j} - 2 C_{j}^{2}\\right)}{8 C_{j} \\left(C_{g}^{2} + 3 C_{g} C_{j} + 2 C_{j}^{2}\\right)}$"
      ],
      "text/plain": [
       "(-12*C_g**2*C_j**2*G**2 + 8*C_g**2*C_j**2*G*V - 12*C_g**2*C_j**2*V**2 + 8*C_g**2*C_j*G*p_\\dot{\\phi_2} - 4*C_g**2*C_j*G*p_\\dot{\\psi} + 8*C_g**2*C_j*V*p_\\dot{\\phi_1} + 4*C_g**2*C_j*V*p_\\dot{\\psi} + C_g**2*p_\\dot{\\psi}**2 - 16*C_g*C_j**3*G**2 - 16*C_g*C_j**3*V**2 + 4*C_g*C_j**2*G*p_\\dot{\\phi_1} + 12*C_g*C_j**2*G*p_\\dot{\\phi_2} - 4*C_g*C_j**2*G*p_\\dot{\\psi} + 12*C_g*C_j**2*V*p_\\dot{\\phi_1} + 4*C_g*C_j**2*V*p_\\dot{\\phi_2} + 4*C_g*C_j**2*V*p_\\dot{\\psi} + 2*C_g*C_j*p_\\dot{\\phi_1}**2 + 2*C_g*C_j*p_\\dot{\\phi_2}**2 + 4*C_g*C_j*p_\\dot{\\psi}**2 + 3*C_j**2*p_\\dot{\\phi_1}**2 + 2*C_j**2*p_\\dot{\\phi_1}*p_\\dot{\\phi_2} + 3*C_j**2*p_\\dot{\\phi_2}**2 + 3*C_j**2*p_\\dot{\\psi}**2 + p_\\dot{\\phi_1}*p_\\dot{\\psi}*(2*C_g*C_j + 2*C_j**2) + p_\\dot{\\phi_2}*p_\\dot{\\psi}*(-2*C_g*C_j - 2*C_j**2))/(8*C_j*(C_g**2 + 3*C_g*C_j + 2*C_j**2))"
      ]
     },
     "execution_count": 50,
     "metadata": {},
     "output_type": "execute_result"
    }
   ],
   "source": [
    "He = H.simplify()\n",
    "\n",
    "sp.collect(He, [ ps[zo]*ps[yo], ps[xo]*ps[yo], ps[xo]*ps[zo]] )\n",
    "\n",
    "# sp.separatevars(He, [ps[xo], ps[yo] ], force = True)"
   ]
  },
  {
   "cell_type": "code",
   "execution_count": 47,
   "metadata": {},
   "outputs": [
    {
     "data": {
      "text/latex": [
       "$\\displaystyle \\operatorname{Poly}{\\left( -12 \\frac{1}{8 C_{g}^{2} C_{j} + 24 C_{g} C_{j}^{2} + 16 C_{j}^{3}}C_{g}^{2}C_{j}^{2}G^{2} + 8 \\frac{1}{8 C_{g}^{2} C_{j} + 24 C_{g} C_{j}^{2} + 16 C_{j}^{3}}C_{g}^{2}C_{j}^{2}GV - 12 \\frac{1}{8 C_{g}^{2} C_{j} + 24 C_{g} C_{j}^{2} + 16 C_{j}^{3}}C_{g}^{2}C_{j}^{2}V^{2} + 8 \\frac{1}{8 C_{g}^{2} C_{j} + 24 C_{g} C_{j}^{2} + 16 C_{j}^{3}}C_{g}^{2}C_{j}Gp_\\dot{\\phi_2} - 4 \\frac{1}{8 C_{g}^{2} C_{j} + 24 C_{g} C_{j}^{2} + 16 C_{j}^{3}}C_{g}^{2}C_{j}Gp_\\dot{\\psi} + 8 \\frac{1}{8 C_{g}^{2} C_{j} + 24 C_{g} C_{j}^{2} + 16 C_{j}^{3}}C_{g}^{2}C_{j}Vp_\\dot{\\phi_1} + 4 \\frac{1}{8 C_{g}^{2} C_{j} + 24 C_{g} C_{j}^{2} + 16 C_{j}^{3}}C_{g}^{2}C_{j}Vp_\\dot{\\psi} + \\frac{1}{8 C_{g}^{2} C_{j} + 24 C_{g} C_{j}^{2} + 16 C_{j}^{3}}C_{g}^{2}p_\\dot{\\psi}^{2} - 16 \\frac{1}{8 C_{g}^{2} C_{j} + 24 C_{g} C_{j}^{2} + 16 C_{j}^{3}}C_{g}C_{j}^{3}G^{2} - 16 \\frac{1}{8 C_{g}^{2} C_{j} + 24 C_{g} C_{j}^{2} + 16 C_{j}^{3}}C_{g}C_{j}^{3}V^{2} + 4 \\frac{1}{8 C_{g}^{2} C_{j} + 24 C_{g} C_{j}^{2} + 16 C_{j}^{3}}C_{g}C_{j}^{2}Gp_\\dot{\\phi_1} + 12 \\frac{1}{8 C_{g}^{2} C_{j} + 24 C_{g} C_{j}^{2} + 16 C_{j}^{3}}C_{g}C_{j}^{2}Gp_\\dot{\\phi_2} - 4 \\frac{1}{8 C_{g}^{2} C_{j} + 24 C_{g} C_{j}^{2} + 16 C_{j}^{3}}C_{g}C_{j}^{2}Gp_\\dot{\\psi} + 12 \\frac{1}{8 C_{g}^{2} C_{j} + 24 C_{g} C_{j}^{2} + 16 C_{j}^{3}}C_{g}C_{j}^{2}Vp_\\dot{\\phi_1} + 4 \\frac{1}{8 C_{g}^{2} C_{j} + 24 C_{g} C_{j}^{2} + 16 C_{j}^{3}}C_{g}C_{j}^{2}Vp_\\dot{\\phi_2} + 4 \\frac{1}{8 C_{g}^{2} C_{j} + 24 C_{g} C_{j}^{2} + 16 C_{j}^{3}}C_{g}C_{j}^{2}Vp_\\dot{\\psi} + 2 \\frac{1}{8 C_{g}^{2} C_{j} + 24 C_{g} C_{j}^{2} + 16 C_{j}^{3}}C_{g}C_{j}p_\\dot{\\phi_1}^{2} + 2 \\frac{1}{8 C_{g}^{2} C_{j} + 24 C_{g} C_{j}^{2} + 16 C_{j}^{3}}C_{g}C_{j}p_\\dot{\\phi_1}p_\\dot{\\psi} + 2 \\frac{1}{8 C_{g}^{2} C_{j} + 24 C_{g} C_{j}^{2} + 16 C_{j}^{3}}C_{g}C_{j}p_\\dot{\\phi_2}^{2} - 2 \\frac{1}{8 C_{g}^{2} C_{j} + 24 C_{g} C_{j}^{2} + 16 C_{j}^{3}}C_{g}C_{j}p_\\dot{\\phi_2}p_\\dot{\\psi} + 4 \\frac{1}{8 C_{g}^{2} C_{j} + 24 C_{g} C_{j}^{2} + 16 C_{j}^{3}}C_{g}C_{j}p_\\dot{\\psi}^{2} + 3 \\frac{1}{8 C_{g}^{2} C_{j} + 24 C_{g} C_{j}^{2} + 16 C_{j}^{3}}C_{j}^{2}p_\\dot{\\phi_1}^{2} + 2 \\frac{1}{8 C_{g}^{2} C_{j} + 24 C_{g} C_{j}^{2} + 16 C_{j}^{3}}C_{j}^{2}p_\\dot{\\phi_1}p_\\dot{\\phi_2} + 2 \\frac{1}{8 C_{g}^{2} C_{j} + 24 C_{g} C_{j}^{2} + 16 C_{j}^{3}}C_{j}^{2}p_\\dot{\\phi_1}p_\\dot{\\psi} + 3 \\frac{1}{8 C_{g}^{2} C_{j} + 24 C_{g} C_{j}^{2} + 16 C_{j}^{3}}C_{j}^{2}p_\\dot{\\phi_2}^{2} - 2 \\frac{1}{8 C_{g}^{2} C_{j} + 24 C_{g} C_{j}^{2} + 16 C_{j}^{3}}C_{j}^{2}p_\\dot{\\phi_2}p_\\dot{\\psi} + 3 \\frac{1}{8 C_{g}^{2} C_{j} + 24 C_{g} C_{j}^{2} + 16 C_{j}^{3}}C_{j}^{2}p_\\dot{\\psi}^{2}, \\frac{1}{8 C_{g}^{2} C_{j} + 24 C_{g} C_{j}^{2} + 16 C_{j}^{3}}, C_{g}, C_{j}, G, V, p_\\dot{\\phi_1}, p_\\dot{\\phi_2}, p_\\dot{\\psi}, domain=\\mathbb{Z} \\right)}$"
      ],
      "text/plain": [
       "Poly(-12*(1/(8*C_g**2*C_j + 24*C_g*C_j**2 + 16*C_j**3))*C_g**2*C_j**2*G**2 + 8*(1/(8*C_g**2*C_j + 24*C_g*C_j**2 + 16*C_j**3))*C_g**2*C_j**2*G*V - 12*(1/(8*C_g**2*C_j + 24*C_g*C_j**2 + 16*C_j**3))*C_g**2*C_j**2*V**2 + 8*(1/(8*C_g**2*C_j + 24*C_g*C_j**2 + 16*C_j**3))*C_g**2*C_j*G*p_\\dot{\\phi_2} - 4*(1/(8*C_g**2*C_j + 24*C_g*C_j**2 + 16*C_j**3))*C_g**2*C_j*G*p_\\dot{\\psi} + 8*(1/(8*C_g**2*C_j + 24*C_g*C_j**2 + 16*C_j**3))*C_g**2*C_j*V*p_\\dot{\\phi_1} + 4*(1/(8*C_g**2*C_j + 24*C_g*C_j**2 + 16*C_j**3))*C_g**2*C_j*V*p_\\dot{\\psi} + (1/(8*C_g**2*C_j + 24*C_g*C_j**2 + 16*C_j**3))*C_g**2*p_\\dot{\\psi}**2 - 16*(1/(8*C_g**2*C_j + 24*C_g*C_j**2 + 16*C_j**3))*C_g*C_j**3*G**2 - 16*(1/(8*C_g**2*C_j + 24*C_g*C_j**2 + 16*C_j**3))*C_g*C_j**3*V**2 + 4*(1/(8*C_g**2*C_j + 24*C_g*C_j**2 + 16*C_j**3))*C_g*C_j**2*G*p_\\dot{\\phi_1} + 12*(1/(8*C_g**2*C_j + 24*C_g*C_j**2 + 16*C_j**3))*C_g*C_j**2*G*p_\\dot{\\phi_2} - 4*(1/(8*C_g**2*C_j + 24*C_g*C_j**2 + 16*C_j**3))*C_g*C_j**2*G*p_\\dot{\\psi} + 12*(1/(8*C_g**2*C_j + 24*C_g*C_j**2 + 16*C_j**3))*C_g*C_j**2*V*p_\\dot{\\phi_1} + 4*(1/(8*C_g**2*C_j + 24*C_g*C_j**2 + 16*C_j**3))*C_g*C_j**2*V*p_\\dot{\\phi_2} + 4*(1/(8*C_g**2*C_j + 24*C_g*C_j**2 + 16*C_j**3))*C_g*C_j**2*V*p_\\dot{\\psi} + 2*(1/(8*C_g**2*C_j + 24*C_g*C_j**2 + 16*C_j**3))*C_g*C_j*p_\\dot{\\phi_1}**2 + 2*(1/(8*C_g**2*C_j + 24*C_g*C_j**2 + 16*C_j**3))*C_g*C_j*p_\\dot{\\phi_1}*p_\\dot{\\psi} + 2*(1/(8*C_g**2*C_j + 24*C_g*C_j**2 + 16*C_j**3))*C_g*C_j*p_\\dot{\\phi_2}**2 - 2*(1/(8*C_g**2*C_j + 24*C_g*C_j**2 + 16*C_j**3))*C_g*C_j*p_\\dot{\\phi_2}*p_\\dot{\\psi} + 4*(1/(8*C_g**2*C_j + 24*C_g*C_j**2 + 16*C_j**3))*C_g*C_j*p_\\dot{\\psi}**2 + 3*(1/(8*C_g**2*C_j + 24*C_g*C_j**2 + 16*C_j**3))*C_j**2*p_\\dot{\\phi_1}**2 + 2*(1/(8*C_g**2*C_j + 24*C_g*C_j**2 + 16*C_j**3))*C_j**2*p_\\dot{\\phi_1}*p_\\dot{\\phi_2} + 2*(1/(8*C_g**2*C_j + 24*C_g*C_j**2 + 16*C_j**3))*C_j**2*p_\\dot{\\phi_1}*p_\\dot{\\psi} + 3*(1/(8*C_g**2*C_j + 24*C_g*C_j**2 + 16*C_j**3))*C_j**2*p_\\dot{\\phi_2}**2 - 2*(1/(8*C_g**2*C_j + 24*C_g*C_j**2 + 16*C_j**3))*C_j**2*p_\\dot{\\phi_2}*p_\\dot{\\psi} + 3*(1/(8*C_g**2*C_j + 24*C_g*C_j**2 + 16*C_j**3))*C_j**2*p_\\dot{\\psi}**2, 1/(8*C_g**2*C_j + 24*C_g*C_j**2 + 16*C_j**3), C_g, C_j, G, V, p_\\dot{\\phi_1}, p_\\dot{\\phi_2}, p_\\dot{\\psi}, domain='ZZ')"
      ]
     },
     "execution_count": 47,
     "metadata": {},
     "output_type": "execute_result"
    }
   ],
   "source": [
    "He.as_poly()"
   ]
  },
  {
   "cell_type": "code",
   "execution_count": 15,
   "metadata": {},
   "outputs": [
    {
     "name": "stdout",
     "output_type": "stream",
     "text": [
      "- \\frac{12 C_{g}^{2} C_{j}^{2} G^{2} - 8 C_{g}^{2} C_{j}^{2} G V + 12 C_{g}^{2} C_{j}^{2} V^{2} - 8 C_{g}^{2} C_{j} G p_\\dot{\\phi_2} + 4 C_{g}^{2} C_{j} G p_\\dot{\\psi} - 8 C_{g}^{2} C_{j} V p_\\dot{\\phi_1} - 4 C_{g}^{2} C_{j} V p_\\dot{\\psi} - C_{g}^{2} p_\\dot{\\psi}^{2} + 16 C_{g} C_{j}^{3} G^{2} + 16 C_{g} C_{j}^{3} V^{2} - 4 C_{g} C_{j}^{2} G p_\\dot{\\phi_1} - 12 C_{g} C_{j}^{2} G p_\\dot{\\phi_2} + 4 C_{g} C_{j}^{2} G p_\\dot{\\psi} - 12 C_{g} C_{j}^{2} V p_\\dot{\\phi_1} - 4 C_{g} C_{j}^{2} V p_\\dot{\\phi_2} - 4 C_{g} C_{j}^{2} V p_\\dot{\\psi} - 2 C_{g} C_{j} p_\\dot{\\phi_1}^{2} - 2 C_{g} C_{j} p_\\dot{\\phi_1} p_\\dot{\\psi} - 2 C_{g} C_{j} p_\\dot{\\phi_2}^{2} + 2 C_{g} C_{j} p_\\dot{\\phi_2} p_\\dot{\\psi} - 4 C_{g} C_{j} p_\\dot{\\psi}^{2} - 3 C_{j}^{2} p_\\dot{\\phi_1}^{2} - 2 C_{j}^{2} p_\\dot{\\phi_1} p_\\dot{\\phi_2} - 2 C_{j}^{2} p_\\dot{\\phi_1} p_\\dot{\\psi} - 3 C_{j}^{2} p_\\dot{\\phi_2}^{2} + 2 C_{j}^{2} p_\\dot{\\phi_2} p_\\dot{\\psi} - 3 C_{j}^{2} p_\\dot{\\psi}^{2}}{8 C_{j} \\left(C_{g} + C_{j}\\right) \\left(C_{g} + 2 C_{j}\\right)}\n"
     ]
    }
   ],
   "source": [
    "print(sp.latex(H.factor()))"
   ]
  },
  {
   "cell_type": "code",
   "execution_count": 25,
   "metadata": {},
   "outputs": [
    {
     "data": {
      "text/latex": [
       "$\\displaystyle \\frac{\\left(2 C_{g} + 3 C_{j}\\right) \\left(p_\\dot{\\phi_1} + \\frac{4 C_{g}^{2} V + 2 C_{g} C_{j} G + 6 C_{g} C_{j} V + C_{g} p_\\dot{\\psi} + C_{j} p_\\dot{\\phi_2} + C_{j} p_\\dot{\\psi}}{2 C_{g} + 3 C_{j}}\\right)^{2}}{8 \\left(C_{g} + C_{j}\\right) \\left(C_{g} + 2 C_{j}\\right)} - \\frac{2 C_{g}^{2} C_{j} V^{2} + 3 C_{g} C_{j}^{2} G^{2} + 3 C_{g} C_{j}^{2} V^{2} - 2 C_{g} C_{j} G p_\\dot{\\phi_2} + C_{g} C_{j} G p_\\dot{\\psi} - \\frac{C_{g} p_\\dot{\\psi}^{2}}{4} - \\frac{C_{j} p_\\dot{\\phi_2}^{2}}{2} + \\frac{C_{j} p_\\dot{\\phi_2} p_\\dot{\\psi}}{2} - \\frac{C_{j} p_\\dot{\\psi}^{2}}{2}}{C_{j} \\left(2 C_{g} + 3 C_{j}\\right)}$"
      ],
      "text/plain": [
       "(2*C_g + 3*C_j)*(p_\\dot{\\phi_1} + (4*C_g**2*V + 2*C_g*C_j*G + 6*C_g*C_j*V + C_g*p_\\dot{\\psi} + C_j*p_\\dot{\\phi_2} + C_j*p_\\dot{\\psi})/(2*C_g + 3*C_j))**2/(8*(C_g + C_j)*(C_g + 2*C_j)) - (2*C_g**2*C_j*V**2 + 3*C_g*C_j**2*G**2 + 3*C_g*C_j**2*V**2 - 2*C_g*C_j*G*p_\\dot{\\phi_2} + C_g*C_j*G*p_\\dot{\\psi} - C_g*p_\\dot{\\psi}**2/4 - C_j*p_\\dot{\\phi_2}**2/2 + C_j*p_\\dot{\\phi_2}*p_\\dot{\\psi}/2 - C_j*p_\\dot{\\psi}**2/2)/(C_j*(2*C_g + 3*C_j))"
      ]
     },
     "execution_count": 25,
     "metadata": {},
     "output_type": "execute_result"
    }
   ],
   "source": [
    "h, k, g = sp.symbols('h k g')\n",
    "h1, k1, g1 = sp.symbols('h1 k1 g1')\n",
    "\n",
    "\n",
    "(h, k, g, h1, g1) = sp.solve(g*(ps[xo]-h)**2 + - k - Hf, [h,k,g, h1, g1])[0]\n",
    "\n",
    "g*(ps[xo]-h)**2  +  - k"
   ]
  },
  {
   "cell_type": "code",
   "execution_count": 381,
   "metadata": {},
   "outputs": [],
   "source": [
    "dn = h"
   ]
  },
  {
   "cell_type": "code",
   "execution_count": 400,
   "metadata": {},
   "outputs": [
    {
     "data": {
      "text/latex": [
       "$\\displaystyle \\frac{16 C_{g}^{2} C_{j}^{2} V^{2} + 2 C_{g}^{2} C_{j} V^{2} - C_{g}^{2} p_\\dot{\\psi}^{2} + 32 C_{g} C_{j}^{3} V^{2} - 4 C_{g} C_{j} p_\\dot{\\psi}^{2} - 4 C_{j}^{2} p_\\dot{\\psi}^{2}}{8 C_{j} \\left(C_{g} + 2 C_{j}\\right)^{2}}$"
      ],
      "text/plain": [
       "(16*C_g**2*C_j**2*V**2 + 2*C_g**2*C_j*V**2 - C_g**2*p_\\dot{\\psi}**2 + 32*C_g*C_j**3*V**2 - 4*C_g*C_j*p_\\dot{\\psi}**2 - 4*C_j**2*p_\\dot{\\psi}**2)/(8*C_j*(C_g + 2*C_j)**2)"
      ]
     },
     "execution_count": 400,
     "metadata": {},
     "output_type": "execute_result"
    }
   ],
   "source": [
    "k"
   ]
  },
  {
   "cell_type": "code",
   "execution_count": 401,
   "metadata": {},
   "outputs": [
    {
     "data": {
      "text/latex": [
       "$\\displaystyle - \\frac{16.0 \\left(0.5 C_{g} + 1.0 C_{j}\\right) \\left(0.25 C_{g}^{2} C_{j}^{2} + 0.125 C_{g}^{2} C_{j} p_\\dot{\\phi_1} - 0.015625 C_{g}^{2} p_\\dot{\\psi}^{2} + 1.0 C_{g} C_{j}^{3} + 0.25 C_{g} C_{j}^{2} p_\\dot{\\phi_1} - 0.03125 C_{g} C_{j} p_\\dot{\\phi_1}^{2} - 0.03125 C_{g} C_{j} p_\\dot{\\psi}^{2} + 1.0 C_{j}^{4}\\right)}{C_{g} C_{j} \\left(C_{g} + 2 C_{j}\\right)^{2}}$"
      ],
      "text/plain": [
       "-16.0*(0.5*C_g + 1.0*C_j)*(0.25*C_g**2*C_j**2 + 0.125*C_g**2*C_j*p_\\dot{\\phi_1} - 0.015625*C_g**2*p_\\dot{\\psi}**2 + 1.0*C_g*C_j**3 + 0.25*C_g*C_j**2*p_\\dot{\\phi_1} - 0.03125*C_g*C_j*p_\\dot{\\phi_1}**2 - 0.03125*C_g*C_j*p_\\dot{\\psi}**2 + 1.0*C_j**4)/(C_g*C_j*(C_g + 2*C_j)**2)"
      ]
     },
     "execution_count": 401,
     "metadata": {},
     "output_type": "execute_result"
    }
   ],
   "source": [
    "H.subs(V,0.5*V/h).factor()"
   ]
  }
 ],
 "metadata": {
  "kernelspec": {
   "display_name": "Python 3",
   "language": "python",
   "name": "python3"
  },
  "language_info": {
   "codemirror_mode": {
    "name": "ipython",
    "version": 3
   },
   "file_extension": ".py",
   "mimetype": "text/x-python",
   "name": "python",
   "nbconvert_exporter": "python",
   "pygments_lexer": "ipython3",
   "version": "3.6.5"
  },
  "toc": {
   "base_numbering": 1,
   "nav_menu": {},
   "number_sections": true,
   "sideBar": true,
   "skip_h1_title": false,
   "title_cell": "Table of Contents",
   "title_sidebar": "Contents",
   "toc_cell": false,
   "toc_position": {
    "height": "47.05px",
    "left": "10px",
    "top": "150px",
    "width": "165px"
   },
   "toc_section_display": true,
   "toc_window_display": true
  }
 },
 "nbformat": 4,
 "nbformat_minor": 2
}
