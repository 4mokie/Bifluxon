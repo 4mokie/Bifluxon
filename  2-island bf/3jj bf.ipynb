{
 "cells": [
  {
   "cell_type": "markdown",
   "metadata": {},
   "source": [
    "### Analysis of the 3jj bifluxon qubit\n",
    "***"
   ]
  },
  {
   "cell_type": "markdown",
   "metadata": {},
   "source": [
    "###### Imports"
   ]
  },
  {
   "cell_type": "code",
   "execution_count": 1,
   "metadata": {},
   "outputs": [],
   "source": [
    "%matplotlib widget"
   ]
  },
  {
   "cell_type": "code",
   "execution_count": 2,
   "metadata": {},
   "outputs": [],
   "source": [
    "# Numpy\n",
    "import numpy as np\n",
    "\n",
    "# Bifluxon\n",
    "import tribf as tbf\n",
    "from importlib import reload\n",
    "\n",
    "# Matplotlib\n",
    "import matplotlib.pyplot as plt\n",
    "from IPython.display import display, Image, Markdown\n",
    "\n",
    "\n",
    "# Warnings\n",
    "import warnings, matplotlib.cbook\n",
    "warnings.filterwarnings(\"ignore\",category=matplotlib.cbook.mplDeprecation)"
   ]
  },
  {
   "cell_type": "code",
   "execution_count": 12,
   "metadata": {},
   "outputs": [
    {
     "data": {
      "text/plain": [
       "<module 'tribf' from 'e:\\\\OneDrive - Rutgers University\\\\files_GitHub\\\\Bifluxon\\\\ 2-island bf\\\\tribf.py'>"
      ]
     },
     "execution_count": 12,
     "metadata": {},
     "output_type": "execute_result"
    }
   ],
   "source": [
    "reload(tbf)"
   ]
  },
  {
   "cell_type": "markdown",
   "metadata": {},
   "source": [
    "##### Circuit parameters (capacitances in [fF], inductances in [nH], frequencies in [GHz], temperature in [K], impedance in [Ω])"
   ]
  },
  {
   "cell_type": "code",
   "execution_count": 3,
   "metadata": {},
   "outputs": [],
   "source": [
    "\n",
    "circuit_params    = {'φext': 0.5*2*np.pi, 'ng': 0., 'ng1': 0., 'ng2': 0.5,\n",
    "                     'CJ': 0.321, 'Cg': 0.98,\n",
    "                     'C0': 1.53, 'C0c': 1.98,\n",
    "                     'LJ': 4.40,\n",
    "                     'L': 600.01,\n",
    "                     'dEJ': 0.297,\n",
    "                    \n",
    "                     'T_loss': 0.05, 'QC': 3.8e5, 'QL': 5.e8,\n",
    "                     'T_line': 2., 'Renv': 50.,\n",
    "                     'ηsh': 0.15, 'ωr': 6.96, 'Zr': 50., 'Qr': 5.3e3}"
   ]
  },
  {
   "cell_type": "markdown",
   "metadata": {},
   "source": [
    "###### Mode parameters"
   ]
  },
  {
   "cell_type": "code",
   "execution_count": 15,
   "metadata": {},
   "outputs": [],
   "source": [
    "mparams = tbf.mode_params(**circuit_params)"
   ]
  },
  {
   "cell_type": "code",
   "execution_count": 5,
   "metadata": {},
   "outputs": [
    {
     "name": "stdout",
     "output_type": "stream",
     "text": [
      "Cφ = 3.504551878302774 fF and ECφ = 5.527163150280099 GHz\n",
      "Cφ- = 1.086 fF and ECφ- = 17.836307550644566 GHz\n",
      "2EJ = 74.30068181818181 GHz and EL = 0.27243129281178646  GHz\n"
     ]
    }
   ],
   "source": [
    "# Cφ, and corresponding charging energy\n",
    "print('Cφ = {} fF and ECφ = {} GHz'.format(mparams['Cφ1'], tbf.fF2GHz / mparams['Cφ1']))\n",
    "\n",
    "# Cφ-, and corresponding charging energy\n",
    "print('Cφ- = {} fF and ECφ- = {} GHz'.format(mparams['Cφ-'], tbf.fF2GHz / mparams['Cφ-']))\n",
    "\n",
    "# EJ and EL\n",
    "print('2EJ = {} GHz and EL = {}  GHz'.format(2. * tbf.nH2GHz / mparams['LJ'], tbf.nH2GHz / mparams['L']))"
   ]
  },
  {
   "cell_type": "markdown",
   "metadata": {},
   "source": [
    "###### Sweep parameters"
   ]
  },
  {
   "cell_type": "code",
   "execution_count": 6,
   "metadata": {},
   "outputs": [
    {
     "data": {
      "text/plain": [
       "0.2796363227114235"
      ]
     },
     "execution_count": 6,
     "metadata": {},
     "output_type": "execute_result"
    }
   ],
   "source": [
    "mparams['βφ1']"
   ]
  },
  {
   "cell_type": "code",
   "execution_count": 6,
   "metadata": {},
   "outputs": [
    {
     "name": "stdout",
     "output_type": "stream",
     "text": [
      "0.20161392063233438\n"
     ]
    }
   ],
   "source": [
    "nH2GHz = 163.4615  # Inductive enegry in GHz (per L in nH) \n",
    "fF2GHz = 19.37023  # Capacitive enegry in GHz (per C in fF)\n",
    "Z2z    = 0.1549618 # Reduced impedance z=Z/RQ (times Z in sqrt(L in nH / C in fF)), with RQ = h/(2e)**2 superconducting resistance quantum\n",
    "ω2GHz  = 159.15494 # Frequency for L = 1 nH and C = 1 fH in GHz\n",
    "z2Ω    = 1000.     # Impedance for L = 1 nH and C = 1 fH in Ω\n",
    "K2GHz  = 20.8366   # Temperature in GHz (times T in K)\n",
    "\n",
    "\n",
    "# Resonator parameters\n",
    "ηsh    = circuit_params['ηsh']\n",
    "ωr, Zr = circuit_params['ωr'], circuit_params['Zr']\n",
    "\n",
    "g = ηsh * (nH2GHz / mparams['L']) * np.sqrt(np.pi * Z2z * Zr)\n",
    "\n",
    "print(g)"
   ]
  },
  {
   "cell_type": "code",
   "execution_count": 7,
   "metadata": {},
   "outputs": [],
   "source": [
    "φexts = np.linspace(-0.0, np.pi, 41, endpoint=True)\n",
    "ngs   = np.linspace(-0.0, 1, 51, endpoint=True)"
   ]
  },
  {
   "cell_type": "markdown",
   "metadata": {},
   "source": [
    "### Charge sweep"
   ]
  },
  {
   "cell_type": "code",
   "execution_count": 14,
   "metadata": {},
   "outputs": [],
   "source": [
    "circuit_params['φext']    = np.pi\n",
    "circuit_params['ng2']     = 1/3\n",
    "circuit_params['CJ']      = 4e-3"
   ]
  },
  {
   "cell_type": "code",
   "execution_count": 16,
   "metadata": {},
   "outputs": [
    {
     "data": {
      "application/vnd.jupyter.widget-view+json": {
       "model_id": "4f498d84e09d44ae85e20f593a836a8b",
       "version_major": 2,
       "version_minor": 0
      },
      "text/plain": [
       "HBox(children=(IntProgress(value=0, max=51), HTML(value='')))"
      ]
     },
     "metadata": {},
     "output_type": "display_data"
    },
    {
     "name": "stdout",
     "output_type": "stream",
     "text": [
      "\n"
     ]
    }
   ],
   "source": [
    "sweep  = tbf.sweep(tbf.diagonalize_device, 'ng1', ngs, **circuit_params)"
   ]
  },
  {
   "cell_type": "code",
   "execution_count": 18,
   "metadata": {
    "scrolled": false
   },
   "outputs": [
    {
     "name": "stdout",
     "output_type": "stream",
     "text": [
      "0.0 3.478224030915193\n",
      "0.02 3.423282634703785\n",
      "0.04 3.3661861549069734\n",
      "0.06 3.3071202923198015\n",
      "0.08 3.246296178638218\n",
      "0.1 3.183958334322419\n",
      "0.12 3.120393862618073\n",
      "0.14 3.055942724942877\n",
      "0.16 2.9910088073469296\n",
      "0.18 2.9260712994667486\n",
      "0.2 2.861695653355433\n",
      "0.22 2.7985430618065408\n",
      "0.24 2.7373769999061786\n",
      "0.26 2.679064941394927\n",
      "0.28 2.6245729688628323\n",
      "0.3 2.57495078116278\n",
      "0.32 2.5313047676753193\n",
      "0.34 2.4947576138608483\n",
      "0.36 2.466394532130611\n",
      "0.38 2.4471986952491953\n",
      "0.4 2.4379814470291343\n",
      "0.42 2.439315597909964\n",
      "0.44 2.4514815159882772\n",
      "0.46 2.4744348887246375\n",
      "0.48 2.507801759816946\n",
      "0.5 2.5509015439714986\n",
      "0.52 2.602793723998566\n",
      "0.54 2.6623403765981806\n",
      "0.56 2.728275382560188\n",
      "0.58 2.799272028858958\n",
      "0.6 2.8740029114348786\n",
      "0.62 2.9511886499647844\n",
      "0.64 3.0296342207894966\n",
      "0.66 3.1082533660608718\n",
      "0.68 3.18608251576887\n",
      "0.7000000000000001 3.2622860978814323\n",
      "0.72 3.336155187190524\n",
      "0.74 3.407101309087299\n",
      "0.76 3.474646978986886\n",
      "0.78 3.5384142884706904\n",
      "0.8 3.5981125824994535\n",
      "0.8200000000000001 3.653526027120666\n",
      "0.84 3.704501652269606\n",
      "0.86 3.750938272620143\n",
      "0.88 3.7927765404910367\n",
      "0.9 3.8299902666852006\n",
      "0.92 3.8625790544148018\n",
      "0.9400000000000001 3.890562224135035\n",
      "0.96 3.9139739590103915\n",
      "0.98 3.9328595675821347\n",
      "1.0 3.9472727383571886\n",
      "0.0 8.441402594798397\n",
      "0.02 8.446584090440961\n",
      "0.04 8.453033189542904\n",
      "0.06 8.460887314261868\n",
      "0.08 8.470252204136276\n",
      "0.1 8.481196637013088\n",
      "0.12 8.4937471849275\n",
      "0.14 8.507882803034772\n",
      "0.16 8.52352916376416\n",
      "0.18 8.540552808007085\n",
      "0.2 8.55875539277783\n",
      "0.22 8.577868572371422\n",
      "0.24 8.59755035332223\n",
      "0.26 8.617384091735952\n",
      "0.28 8.636881605954876\n",
      "0.3 8.655492068515674\n",
      "0.32 8.67261828368267\n",
      "0.34 8.687641484425756\n",
      "0.36 8.699954750218225\n",
      "0.38 8.70900352447751\n",
      "0.4 8.71432969938468\n",
      "0.42 8.715613834638631\n",
      "0.44 8.712708999830369\n",
      "0.46 8.705660129364853\n",
      "0.48 8.69470486758503\n",
      "0.5 8.680255201131175\n",
      "0.52 8.662862722612624\n",
      "0.54 8.643173058977839\n",
      "0.56 8.621876162488665\n",
      "0.58 8.5996587755378\n",
      "0.6 8.57716391395229\n",
      "0.62 8.554960305660764\n",
      "0.64 8.533522893899114\n",
      "0.66 8.51322405341464\n",
      "0.68 8.494334152779967\n",
      "0.7000000000000001 8.47702948492277\n",
      "0.72 8.461405301850158\n",
      "0.74 8.447491658531348\n",
      "0.76 8.435269946525523\n",
      "0.78 8.424688344260943\n",
      "0.8 8.4156748865201\n",
      "0.8200000000000001 8.408147401585529\n",
      "0.84 8.40202010528504\n",
      "0.86 8.397207099626481\n",
      "0.88 8.39362334316436\n",
      "0.9 8.391183819259854\n",
      "0.92 8.389801644166628\n",
      "0.9400000000000001 8.389385772297384\n",
      "0.96 8.389838822880865\n",
      "0.98 8.391055414585072\n",
      "1.0 8.392921280701177\n"
     ]
    },
    {
     "data": {
      "image/png": "[encoded data removed]",
      "text/plain": [
       "<Figure size 900x400 with 2 Axes>"
      ]
     },
     "metadata": {},
     "output_type": "display_data"
    }
   ],
   "source": [
    "tbf.plot_spectrum(sweep, ωmaxinGHz2=[0,10.])"
   ]
  },
  {
   "cell_type": "code",
   "execution_count": 21,
   "metadata": {},
   "outputs": [
    {
     "data": {
      "application/vnd.jupyter.widget-view+json": {
       "model_id": "716ce0d734a7470c9b6b791a687495d6",
       "version_major": 2,
       "version_minor": 0
      },
      "text/plain": [
       "FigureCanvasNbAgg()"
      ]
     },
     "metadata": {},
     "output_type": "display_data"
    },
    {
     "data": {
      "text/plain": [
       "<matplotlib.legend.Legend at 0x1f62b5496a0>"
      ]
     },
     "execution_count": 21,
     "metadata": {},
     "output_type": "execute_result"
    }
   ],
   "source": [
    "X, Y0 = sweep['vector'], [evals[0] for evals, ekets in sweep['result']]\n",
    "Y1 = [evals[1] for evals, ekets in sweep['result']]\n",
    "fig, ax = plt.subplots()\n",
    "\n",
    "ax.plot(X, Y0, label = 'E0')\n",
    "ax.plot(X, Y1, label = 'E1')\n",
    "\n",
    "ax.set_title('ng2 = 1/6')\n",
    "\n",
    "ax.set_xlabel('ng1')\n",
    "ax.set_ylabel('E')\n",
    "\n",
    "ax.legend()"
   ]
  },
  {
   "cell_type": "code",
   "execution_count": 45,
   "metadata": {},
   "outputs": [
    {
     "data": {
      "application/vnd.jupyter.widget-view+json": {
       "model_id": "4faee24619a94d9aade2972353770955",
       "version_major": 2,
       "version_minor": 0
      },
      "text/plain": [
       "FigureCanvasNbAgg()"
      ]
     },
     "metadata": {},
     "output_type": "display_data"
    },
    {
     "data": {
      "text/plain": [
       "<matplotlib.legend.Legend at 0x19f03922390>"
      ]
     },
     "execution_count": 45,
     "metadata": {},
     "output_type": "execute_result"
    }
   ],
   "source": [
    "X, Y01 = sweep['vector'], [evals[1] - evals[0] for evals, ekets in sweep['result']]\n",
    "# Y1 = [evals[1] for evals, ekets in sweep['result']]\n",
    "fig, ax = plt.subplots()\n",
    "\n",
    "ax.plot(X, Y01, label = 'E01')\n",
    "\n",
    "\n",
    "ax.set_title('ng2 = 1/6')\n",
    "\n",
    "ax.set_xlabel('ng1')\n",
    "ax.set_ylabel('E01')\n",
    "\n",
    "ax.legend()"
   ]
  },
  {
   "cell_type": "markdown",
   "metadata": {},
   "source": [
    "## 2d sweep"
   ]
  },
  {
   "cell_type": "code",
   "execution_count": null,
   "metadata": {
    "scrolled": true
   },
   "outputs": [
    {
     "data": {
      "application/vnd.jupyter.widget-view+json": {
       "model_id": "f39868850e034ef8888f17865eeaffef",
       "version_major": 2,
       "version_minor": 0
      },
      "text/plain": [
       "HBox(children=(IntProgress(value=0, max=51), HTML(value='')))"
      ]
     },
     "metadata": {},
     "output_type": "display_data"
    },
    {
     "data": {
      "application/vnd.jupyter.widget-view+json": {
       "model_id": "",
       "version_major": 2,
       "version_minor": 0
      },
      "text/plain": [
       "HBox(children=(IntProgress(value=0, max=51), HTML(value='')))"
      ]
     },
     "metadata": {},
     "output_type": "display_data"
    },
    {
     "data": {
      "application/vnd.jupyter.widget-view+json": {
       "model_id": "",
       "version_major": 2,
       "version_minor": 0
      },
      "text/plain": [
       "HBox(children=(IntProgress(value=0, max=51), HTML(value='')))"
      ]
     },
     "metadata": {},
     "output_type": "display_data"
    },
    {
     "data": {
      "application/vnd.jupyter.widget-view+json": {
       "model_id": "",
       "version_major": 2,
       "version_minor": 0
      },
      "text/plain": [
       "HBox(children=(IntProgress(value=0, max=51), HTML(value='')))"
      ]
     },
     "metadata": {},
     "output_type": "display_data"
    },
    {
     "data": {
      "application/vnd.jupyter.widget-view+json": {
       "model_id": "",
       "version_major": 2,
       "version_minor": 0
      },
      "text/plain": [
       "HBox(children=(IntProgress(value=0, max=51), HTML(value='')))"
      ]
     },
     "metadata": {},
     "output_type": "display_data"
    },
    {
     "data": {
      "application/vnd.jupyter.widget-view+json": {
       "model_id": "",
       "version_major": 2,
       "version_minor": 0
      },
      "text/plain": [
       "HBox(children=(IntProgress(value=0, max=51), HTML(value='')))"
      ]
     },
     "metadata": {},
     "output_type": "display_data"
    },
    {
     "data": {
      "application/vnd.jupyter.widget-view+json": {
       "model_id": "",
       "version_major": 2,
       "version_minor": 0
      },
      "text/plain": [
       "HBox(children=(IntProgress(value=0, max=51), HTML(value='')))"
      ]
     },
     "metadata": {},
     "output_type": "display_data"
    },
    {
     "data": {
      "application/vnd.jupyter.widget-view+json": {
       "model_id": "",
       "version_major": 2,
       "version_minor": 0
      },
      "text/plain": [
       "HBox(children=(IntProgress(value=0, max=51), HTML(value='')))"
      ]
     },
     "metadata": {},
     "output_type": "display_data"
    },
    {
     "data": {
      "application/vnd.jupyter.widget-view+json": {
       "model_id": "",
       "version_major": 2,
       "version_minor": 0
      },
      "text/plain": [
       "HBox(children=(IntProgress(value=0, max=51), HTML(value='')))"
      ]
     },
     "metadata": {},
     "output_type": "display_data"
    },
    {
     "data": {
      "application/vnd.jupyter.widget-view+json": {
       "model_id": "",
       "version_major": 2,
       "version_minor": 0
      },
      "text/plain": [
       "HBox(children=(IntProgress(value=0, max=51), HTML(value='')))"
      ]
     },
     "metadata": {},
     "output_type": "display_data"
    },
    {
     "data": {
      "application/vnd.jupyter.widget-view+json": {
       "model_id": "",
       "version_major": 2,
       "version_minor": 0
      },
      "text/plain": [
       "HBox(children=(IntProgress(value=0, max=51), HTML(value='')))"
      ]
     },
     "metadata": {},
     "output_type": "display_data"
    },
    {
     "data": {
      "application/vnd.jupyter.widget-view+json": {
       "model_id": "",
       "version_major": 2,
       "version_minor": 0
      },
      "text/plain": [
       "HBox(children=(IntProgress(value=0, max=51), HTML(value='')))"
      ]
     },
     "metadata": {},
     "output_type": "display_data"
    },
    {
     "data": {
      "application/vnd.jupyter.widget-view+json": {
       "model_id": "",
       "version_major": 2,
       "version_minor": 0
      },
      "text/plain": [
       "HBox(children=(IntProgress(value=0, max=51), HTML(value='')))"
      ]
     },
     "metadata": {},
     "output_type": "display_data"
    },
    {
     "data": {
      "application/vnd.jupyter.widget-view+json": {
       "model_id": "",
       "version_major": 2,
       "version_minor": 0
      },
      "text/plain": [
       "HBox(children=(IntProgress(value=0, max=51), HTML(value='')))"
      ]
     },
     "metadata": {},
     "output_type": "display_data"
    },
    {
     "data": {
      "application/vnd.jupyter.widget-view+json": {
       "model_id": "",
       "version_major": 2,
       "version_minor": 0
      },
      "text/plain": [
       "HBox(children=(IntProgress(value=0, max=51), HTML(value='')))"
      ]
     },
     "metadata": {},
     "output_type": "display_data"
    },
    {
     "data": {
      "application/vnd.jupyter.widget-view+json": {
       "model_id": "",
       "version_major": 2,
       "version_minor": 0
      },
      "text/plain": [
       "HBox(children=(IntProgress(value=0, max=51), HTML(value='')))"
      ]
     },
     "metadata": {},
     "output_type": "display_data"
    },
    {
     "data": {
      "application/vnd.jupyter.widget-view+json": {
       "model_id": "",
       "version_major": 2,
       "version_minor": 0
      },
      "text/plain": [
       "HBox(children=(IntProgress(value=0, max=51), HTML(value='')))"
      ]
     },
     "metadata": {},
     "output_type": "display_data"
    },
    {
     "data": {
      "application/vnd.jupyter.widget-view+json": {
       "model_id": "",
       "version_major": 2,
       "version_minor": 0
      },
      "text/plain": [
       "HBox(children=(IntProgress(value=0, max=51), HTML(value='')))"
      ]
     },
     "metadata": {},
     "output_type": "display_data"
    },
    {
     "data": {
      "application/vnd.jupyter.widget-view+json": {
       "model_id": "",
       "version_major": 2,
       "version_minor": 0
      },
      "text/plain": [
       "HBox(children=(IntProgress(value=0, max=51), HTML(value='')))"
      ]
     },
     "metadata": {},
     "output_type": "display_data"
    },
    {
     "data": {
      "application/vnd.jupyter.widget-view+json": {
       "model_id": "",
       "version_major": 2,
       "version_minor": 0
      },
      "text/plain": [
       "HBox(children=(IntProgress(value=0, max=51), HTML(value='')))"
      ]
     },
     "metadata": {},
     "output_type": "display_data"
    },
    {
     "data": {
      "application/vnd.jupyter.widget-view+json": {
       "model_id": "",
       "version_major": 2,
       "version_minor": 0
      },
      "text/plain": [
       "HBox(children=(IntProgress(value=0, max=51), HTML(value='')))"
      ]
     },
     "metadata": {},
     "output_type": "display_data"
    },
    {
     "data": {
      "application/vnd.jupyter.widget-view+json": {
       "model_id": "",
       "version_major": 2,
       "version_minor": 0
      },
      "text/plain": [
       "HBox(children=(IntProgress(value=0, max=51), HTML(value='')))"
      ]
     },
     "metadata": {},
     "output_type": "display_data"
    },
    {
     "data": {
      "application/vnd.jupyter.widget-view+json": {
       "model_id": "",
       "version_major": 2,
       "version_minor": 0
      },
      "text/plain": [
       "HBox(children=(IntProgress(value=0, max=51), HTML(value='')))"
      ]
     },
     "metadata": {},
     "output_type": "display_data"
    },
    {
     "data": {
      "application/vnd.jupyter.widget-view+json": {
       "model_id": "",
       "version_major": 2,
       "version_minor": 0
      },
      "text/plain": [
       "HBox(children=(IntProgress(value=0, max=51), HTML(value='')))"
      ]
     },
     "metadata": {},
     "output_type": "display_data"
    },
    {
     "data": {
      "application/vnd.jupyter.widget-view+json": {
       "model_id": "",
       "version_major": 2,
       "version_minor": 0
      },
      "text/plain": [
       "HBox(children=(IntProgress(value=0, max=51), HTML(value='')))"
      ]
     },
     "metadata": {},
     "output_type": "display_data"
    },
    {
     "data": {
      "application/vnd.jupyter.widget-view+json": {
       "model_id": "",
       "version_major": 2,
       "version_minor": 0
      },
      "text/plain": [
       "HBox(children=(IntProgress(value=0, max=51), HTML(value='')))"
      ]
     },
     "metadata": {},
     "output_type": "display_data"
    },
    {
     "data": {
      "application/vnd.jupyter.widget-view+json": {
       "model_id": "",
       "version_major": 2,
       "version_minor": 0
      },
      "text/plain": [
       "HBox(children=(IntProgress(value=0, max=51), HTML(value='')))"
      ]
     },
     "metadata": {},
     "output_type": "display_data"
    },
    {
     "data": {
      "application/vnd.jupyter.widget-view+json": {
       "model_id": "",
       "version_major": 2,
       "version_minor": 0
      },
      "text/plain": [
       "HBox(children=(IntProgress(value=0, max=51), HTML(value='')))"
      ]
     },
     "metadata": {},
     "output_type": "display_data"
    },
    {
     "data": {
      "application/vnd.jupyter.widget-view+json": {
       "model_id": "",
       "version_major": 2,
       "version_minor": 0
      },
      "text/plain": [
       "HBox(children=(IntProgress(value=0, max=51), HTML(value='')))"
      ]
     },
     "metadata": {},
     "output_type": "display_data"
    },
    {
     "data": {
      "application/vnd.jupyter.widget-view+json": {
       "model_id": "",
       "version_major": 2,
       "version_minor": 0
      },
      "text/plain": [
       "HBox(children=(IntProgress(value=0, max=51), HTML(value='')))"
      ]
     },
     "metadata": {},
     "output_type": "display_data"
    },
    {
     "data": {
      "application/vnd.jupyter.widget-view+json": {
       "model_id": "",
       "version_major": 2,
       "version_minor": 0
      },
      "text/plain": [
       "HBox(children=(IntProgress(value=0, max=51), HTML(value='')))"
      ]
     },
     "metadata": {},
     "output_type": "display_data"
    },
    {
     "data": {
      "application/vnd.jupyter.widget-view+json": {
       "model_id": "",
       "version_major": 2,
       "version_minor": 0
      },
      "text/plain": [
       "HBox(children=(IntProgress(value=0, max=51), HTML(value='')))"
      ]
     },
     "metadata": {},
     "output_type": "display_data"
    },
    {
     "data": {
      "application/vnd.jupyter.widget-view+json": {
       "model_id": "",
       "version_major": 2,
       "version_minor": 0
      },
      "text/plain": [
       "HBox(children=(IntProgress(value=0, max=51), HTML(value='')))"
      ]
     },
     "metadata": {},
     "output_type": "display_data"
    },
    {
     "data": {
      "application/vnd.jupyter.widget-view+json": {
       "model_id": "",
       "version_major": 2,
       "version_minor": 0
      },
      "text/plain": [
       "HBox(children=(IntProgress(value=0, max=51), HTML(value='')))"
      ]
     },
     "metadata": {},
     "output_type": "display_data"
    },
    {
     "data": {
      "application/vnd.jupyter.widget-view+json": {
       "model_id": "dfe10909588b43839ae72990c530c261",
       "version_major": 2,
       "version_minor": 0
      },
      "text/plain": [
       "HBox(children=(IntProgress(value=0, max=51), HTML(value='')))"
      ]
     },
     "metadata": {},
     "output_type": "display_data"
    }
   ],
   "source": [
    "sweep_ngng1 = tbf.DoubleSweep(tbf.diagonalize_device, 'ng1', 'ng2', ngs, ngs, **circuit_params)"
   ]
  },
  {
   "cell_type": "code",
   "execution_count": 11,
   "metadata": {},
   "outputs": [
    {
     "name": "stdout",
     "output_type": "stream",
     "text": [
      "state is 0\n",
      "(51, 51, 2, 16)\n"
     ]
    },
    {
     "data": {
      "application/vnd.jupyter.widget-view+json": {
       "model_id": "db5376571d4f44f684121240b43bc935",
       "version_major": 2,
       "version_minor": 0
      },
      "text/plain": [
       "FigureCanvasNbAgg()"
      ]
     },
     "metadata": {},
     "output_type": "display_data"
    }
   ],
   "source": [
    "tbf.plot_DoubleSpectrum(sweep_ngng1, title='pls work', \n",
    "                        ωliminGHz=[0,20.], xrange=None,yrange=None,state=0, diff=True)"
   ]
  },
  {
   "cell_type": "code",
   "execution_count": 10,
   "metadata": {},
   "outputs": [],
   "source": [
    "tbf.write_double(sweep_ngng1, filename='march12')"
   ]
  }
 ],
 "metadata": {
  "kernelspec": {
   "display_name": "Python 3",
   "language": "python",
   "name": "python3"
  },
  "language_info": {
   "codemirror_mode": {
    "name": "ipython",
    "version": 3
   },
   "file_extension": ".py",
   "mimetype": "text/x-python",
   "name": "python",
   "nbconvert_exporter": "python",
   "pygments_lexer": "ipython3",
   "version": "3.6.5"
  },
  "toc": {
   "base_numbering": 1,
   "nav_menu": {},
   "number_sections": true,
   "sideBar": true,
   "skip_h1_title": false,
   "title_cell": "Table of Contents",
   "title_sidebar": "Contents",
   "toc_cell": false,
   "toc_position": {
    "height": "265.283px",
    "left": "0px",
    "top": "32.2333px",
    "width": "165px"
   },
   "toc_section_display": true,
   "toc_window_display": true
  }
 },
 "nbformat": 4,
 "nbformat_minor": 2
}
