{
 "cells": [
  {
   "cell_type": "markdown",
   "metadata": {},
   "source": [
    "### Analysis of the 3jj bifluxon qubit\n",
    "***"
   ]
  },
  {
   "cell_type": "markdown",
   "metadata": {},
   "source": [
    "###### Imports"
   ]
  },
  {
   "cell_type": "code",
   "execution_count": 1,
   "metadata": {},
   "outputs": [],
   "source": [
    "%matplotlib widget"
   ]
  },
  {
   "cell_type": "code",
   "execution_count": 2,
   "metadata": {},
   "outputs": [
    {
     "name": "stderr",
     "output_type": "stream",
     "text": [
      "D:\\anaconda\\lib\\site-packages\\tqdm\\autonotebook\\__init__.py:14: TqdmExperimentalWarning: Using `tqdm.autonotebook.tqdm` in notebook mode. Use `tqdm.tqdm` instead to force console mode (e.g. in jupyter console)\n",
      "  \" (e.g. in jupyter console)\", TqdmExperimentalWarning)\n"
     ]
    }
   ],
   "source": [
    "# Numpy\n",
    "import numpy as np\n",
    "\n",
    "# Bifluxon\n",
    "import tribf as tbf\n",
    "from importlib import reload\n",
    "\n",
    "# Matplotlib\n",
    "import matplotlib.pyplot as plt\n",
    "from IPython.display import display, Image, Markdown\n",
    "\n",
    "\n",
    "# Warnings\n",
    "import warnings, matplotlib.cbook\n",
    "warnings.filterwarnings(\"ignore\",category=matplotlib.cbook.mplDeprecation)"
   ]
  },
  {
   "cell_type": "code",
   "execution_count": 17,
   "metadata": {},
   "outputs": [
    {
     "data": {
      "text/plain": [
       "<module 'tribf' from 'e:\\\\OneDrive - Rutgers University\\\\files_GitHub\\\\Agustin-bifluxon\\\\steve\\\\tribf.py'>"
      ]
     },
     "execution_count": 17,
     "metadata": {},
     "output_type": "execute_result"
    }
   ],
   "source": [
    "reload(tbf)"
   ]
  },
  {
   "cell_type": "markdown",
   "metadata": {},
   "source": [
    "##### Circuit parameters (capacitances in [fF], inductances in [nH], frequencies in [GHz], temperature in [K], impedance in [Ω])"
   ]
  },
  {
   "cell_type": "code",
   "execution_count": 14,
   "metadata": {},
   "outputs": [],
   "source": [
    "\n",
    "circuit_params    = {'φext': 0.5*2*np.pi, 'ng': 0., 'ng1': 0., 'ng2': 0.5,\n",
    "                     'CJ': 0.321, 'Cg': 0.98,\n",
    "                     'C0': 1.53, 'C0c': 1.98,\n",
    "                     'LJ': 4.40,\n",
    "                     'L': 600.01,\n",
    "                     'dEJ': 0.297,\n",
    "                    \n",
    "                     'T_loss': 0.05, 'QC': 3.8e5, 'QL': 5.e8,\n",
    "                     'T_line': 2., 'Renv': 50.,\n",
    "                     'ηsh': 0.15, 'ωr': 6.96, 'Zr': 50., 'Qr': 5.3e3}"
   ]
  },
  {
   "cell_type": "markdown",
   "metadata": {},
   "source": [
    "###### Mode parameters"
   ]
  },
  {
   "cell_type": "code",
   "execution_count": 18,
   "metadata": {},
   "outputs": [],
   "source": [
    "mparams = tbf.mode_params(**circuit_params)"
   ]
  },
  {
   "cell_type": "code",
   "execution_count": 5,
   "metadata": {},
   "outputs": [
    {
     "name": "stdout",
     "output_type": "stream",
     "text": [
      "Cφ = 3.504551878302774 fF and ECφ = 5.527163150280099 GHz\n",
      "Cφ- = 1.086 fF and ECφ- = 17.836307550644566 GHz\n",
      "2EJ = 74.30068181818181 GHz and EL = 0.27243129281178646  GHz\n"
     ]
    }
   ],
   "source": [
    "# Cφ, and corresponding charging energy\n",
    "print('Cφ = {} fF and ECφ = {} GHz'.format(mparams['Cφ1'], tbf.fF2GHz / mparams['Cφ1']))\n",
    "\n",
    "# Cφ-, and corresponding charging energy\n",
    "print('Cφ- = {} fF and ECφ- = {} GHz'.format(mparams['Cφ-'], tbf.fF2GHz / mparams['Cφ-']))\n",
    "\n",
    "# EJ and EL\n",
    "print('2EJ = {} GHz and EL = {}  GHz'.format(2. * tbf.nH2GHz / mparams['LJ'], tbf.nH2GHz / mparams['L']))"
   ]
  },
  {
   "cell_type": "markdown",
   "metadata": {},
   "source": [
    "###### Sweep parameters"
   ]
  },
  {
   "cell_type": "code",
   "execution_count": 6,
   "metadata": {},
   "outputs": [
    {
     "data": {
      "text/plain": [
       "0.2796363227114235"
      ]
     },
     "execution_count": 6,
     "metadata": {},
     "output_type": "execute_result"
    }
   ],
   "source": [
    "mparams['βφ1']"
   ]
  },
  {
   "cell_type": "code",
   "execution_count": 13,
   "metadata": {},
   "outputs": [
    {
     "name": "stdout",
     "output_type": "stream",
     "text": [
      "0.20161392063233438\n"
     ]
    }
   ],
   "source": [
    "nH2GHz = 163.4615  # Inductive enegry in GHz (per L in nH) \n",
    "fF2GHz = 19.37023  # Capacitive enegry in GHz (per C in fF)\n",
    "Z2z    = 0.1549618 # Reduced impedance z=Z/RQ (times Z in sqrt(L in nH / C in fF)), with RQ = h/(2e)**2 superconducting resistance quantum\n",
    "ω2GHz  = 159.15494 # Frequency for L = 1 nH and C = 1 fH in GHz\n",
    "z2Ω    = 1000.     # Impedance for L = 1 nH and C = 1 fH in Ω\n",
    "K2GHz  = 20.8366   # Temperature in GHz (times T in K)\n",
    "\n",
    "\n",
    "# Resonator parameters\n",
    "ηsh    = circuit_params['ηsh']\n",
    "ωr, Zr = circuit_params['ωr'], circuit_params['Zr']\n",
    "\n",
    "g = ηsh * (nH2GHz / mparams['L']) * np.sqrt(np.pi * Z2z * Zr)\n",
    "\n",
    "print(g)"
   ]
  },
  {
   "cell_type": "code",
   "execution_count": 8,
   "metadata": {},
   "outputs": [],
   "source": [
    "φexts = np.linspace(-0.0, np.pi, 41, endpoint=True)\n",
    "ngs   = np.linspace(-0.0, 1, 51, endpoint=True)"
   ]
  },
  {
   "cell_type": "markdown",
   "metadata": {},
   "source": [
    "### Charge sweep"
   ]
  },
  {
   "cell_type": "code",
   "execution_count": 9,
   "metadata": {},
   "outputs": [],
   "source": [
    "circuit_params['φext']    = np.pi\n",
    "circuit_params['ng2']     = 1/3\n",
    "circuit_params['CJ']      = 4e-3"
   ]
  },
  {
   "cell_type": "code",
   "execution_count": 19,
   "metadata": {},
   "outputs": [
    {
     "data": {
      "application/vnd.jupyter.widget-view+json": {
       "model_id": "9ea3cdbb4ace43ddb5e89754cf137f86",
       "version_major": 2,
       "version_minor": 0
      },
      "text/plain": [
       "HBox(children=(IntProgress(value=0, max=51), HTML(value='')))"
      ]
     },
     "metadata": {},
     "output_type": "display_data"
    },
    {
     "name": "stdout",
     "output_type": "stream",
     "text": [
      "\n"
     ]
    }
   ],
   "source": [
    "sweep  = tbf.sweep(tbf.diagonalize_device, 'ng1', ngs, **circuit_params)"
   ]
  },
  {
   "cell_type": "code",
   "execution_count": 20,
   "metadata": {
    "scrolled": false
   },
   "outputs": [
    {
     "data": {
      "application/vnd.jupyter.widget-view+json": {
       "model_id": "dd9ea5d9f4614df68855f2266328c3f5",
       "version_major": 2,
       "version_minor": 0
      },
      "text/plain": [
       "FigureCanvasNbAgg()"
      ]
     },
     "metadata": {},
     "output_type": "display_data"
    },
    {
     "name": "stdout",
     "output_type": "stream",
     "text": [
      "0.0 1.4206970065994113\n",
      "0.02 1.3794681671198177\n",
      "0.04 1.340497985559935\n",
      "0.06 1.3040814533192275\n",
      "0.08 1.2704928320957336\n",
      "0.1 1.2399835520276952\n",
      "0.12 1.2127804672096119\n",
      "0.14 1.1890844471958104\n",
      "0.16 1.1690692717772109\n",
      "0.18 1.1528807893682114\n",
      "0.2 1.1406362967561812\n",
      "0.22 1.1324240993477623\n",
      "0.24 1.1283032157534691\n",
      "0.26 1.1283031976943505\n",
      "0.28 1.1324240451046848\n",
      "0.3 1.1406362061295212\n",
      "0.32 1.1528806620192569\n",
      "0.34 1.1690691072143515\n",
      "0.36 1.1890842447633005\n",
      "0.38 1.2127802260682685\n",
      "0.4 1.2399832711403427\n",
      "0.42 1.2704925102150355\n",
      "0.44 1.304081088971678\n",
      "0.46 1.3404975770384553\n",
      "0.48 1.3794677124789239\n",
      "0.5 1.4206965036542947\n",
      "0.52 1.4638706946295628\n",
      "0.54 1.508661582036531\n",
      "0.56 1.5547281513409494\n",
      "0.58 1.6017204803263745\n",
      "0.6 1.6492833390060433\n",
      "0.62 1.697059899799573\n",
      "0.64 1.74469546105162\n",
      "0.66 1.7918410820247175\n",
      "0.68 1.8381570288573563\n",
      "0.7000000000000001 1.8833159387149152\n",
      "0.72 1.927005622937628\n",
      "0.74 1.9689314483065523\n",
      "0.76 2.008818257161572\n",
      "0.78 2.0464118103622084\n",
      "0.8 2.0814797602284116\n",
      "0.8200000000000001 2.113812182065022\n",
      "0.84 2.143221711367463\n",
      "0.86 2.169543348342316\n",
      "0.88 2.192634001481764\n",
      "0.9 2.2123718473828227\n",
      "0.92 2.22865558505562\n",
      "0.9400000000000001 2.2414036599813763\n",
      "0.96 2.2505535268111565\n",
      "0.98 2.2560610104088\n",
      "1.0 2.2578998136835224\n",
      "0.0 9.410151661971511\n",
      "0.02 9.425063059746172\n",
      "0.04 9.439235492235223\n",
      "0.06 9.452547032420462\n",
      "0.08 9.464881660339358\n",
      "0.1 9.476131240025449\n",
      "0.12 9.486197126442573\n",
      "0.14 9.494991402576812\n",
      "0.16 9.502437774724019\n",
      "0.18 9.508472173948832\n",
      "0.2 9.513043123542683\n",
      "0.22 9.516111936092457\n",
      "0.24 9.51765280035497\n",
      "0.26 9.51765280861797\n",
      "0.28 9.51611196089372\n",
      "0.3 9.513043164909675\n",
      "0.32 9.508472231925932\n",
      "0.34 9.502437849380517\n",
      "0.36 9.494991494008023\n",
      "0.38 9.48619723477574\n",
      "0.4 9.47613136542384\n",
      "0.42 9.46488180300203\n",
      "0.44 9.452547192587627\n",
      "0.46 9.439235670194567\n",
      "0.48 9.425063255830462\n",
      "0.5 9.41015187656414\n",
      "0.52 9.394627054750952\n",
      "0.54 9.378615338865046\n",
      "0.56 9.362241603038171\n",
      "0.58 9.345626395260826\n",
      "0.6 9.32888357003998\n",
      "0.62 9.312118490774836\n",
      "0.64 9.295427113207591\n",
      "0.66 9.278896235478413\n",
      "0.68 9.262605086703541\n",
      "0.7000000000000001 9.246628198541234\n",
      "0.72 9.231039179501195\n",
      "0.74 9.215914679208893\n",
      "0.76 9.201337642305703\n",
      "0.78 9.18739904658749\n",
      "0.8 9.17419770928247\n",
      "0.8200000000000001 9.161838273104372\n",
      "0.84 9.150427915430015\n",
      "0.86 9.14007250076314\n",
      "0.88 9.13087281655205\n",
      "0.9 9.122921308329225\n",
      "0.92 9.11629949097767\n",
      "0.9400000000000001 9.111076036130775\n",
      "0.96 9.107305440462472\n",
      "0.98 9.105027149304409\n",
      "1.0 9.10426501925049\n"
     ]
    }
   ],
   "source": [
    "tbf.plot_spectrum(sweep, ωmaxinGHz2=[0,10.])"
   ]
  },
  {
   "cell_type": "code",
   "execution_count": 21,
   "metadata": {},
   "outputs": [
    {
     "data": {
      "application/vnd.jupyter.widget-view+json": {
       "model_id": "716ce0d734a7470c9b6b791a687495d6",
       "version_major": 2,
       "version_minor": 0
      },
      "text/plain": [
       "FigureCanvasNbAgg()"
      ]
     },
     "metadata": {},
     "output_type": "display_data"
    },
    {
     "data": {
      "text/plain": [
       "<matplotlib.legend.Legend at 0x1f62b5496a0>"
      ]
     },
     "execution_count": 21,
     "metadata": {},
     "output_type": "execute_result"
    }
   ],
   "source": [
    "X, Y0 = sweep['vector'], [evals[0] for evals, ekets in sweep['result']]\n",
    "Y1 = [evals[1] for evals, ekets in sweep['result']]\n",
    "fig, ax = plt.subplots()\n",
    "\n",
    "ax.plot(X, Y0, label = 'E0')\n",
    "ax.plot(X, Y1, label = 'E1')\n",
    "\n",
    "ax.set_title('ng2 = 1/6')\n",
    "\n",
    "ax.set_xlabel('ng1')\n",
    "ax.set_ylabel('E')\n",
    "\n",
    "ax.legend()"
   ]
  },
  {
   "cell_type": "code",
   "execution_count": 45,
   "metadata": {},
   "outputs": [
    {
     "data": {
      "application/vnd.jupyter.widget-view+json": {
       "model_id": "4faee24619a94d9aade2972353770955",
       "version_major": 2,
       "version_minor": 0
      },
      "text/plain": [
       "FigureCanvasNbAgg()"
      ]
     },
     "metadata": {},
     "output_type": "display_data"
    },
    {
     "data": {
      "text/plain": [
       "<matplotlib.legend.Legend at 0x19f03922390>"
      ]
     },
     "execution_count": 45,
     "metadata": {},
     "output_type": "execute_result"
    }
   ],
   "source": [
    "X, Y01 = sweep['vector'], [evals[1] - evals[0] for evals, ekets in sweep['result']]\n",
    "# Y1 = [evals[1] for evals, ekets in sweep['result']]\n",
    "fig, ax = plt.subplots()\n",
    "\n",
    "ax.plot(X, Y01, label = 'E01')\n",
    "\n",
    "\n",
    "ax.set_title('ng2 = 1/6')\n",
    "\n",
    "ax.set_xlabel('ng1')\n",
    "ax.set_ylabel('E01')\n",
    "\n",
    "ax.legend()"
   ]
  },
  {
   "cell_type": "markdown",
   "metadata": {},
   "source": [
    "## 2d sweep"
   ]
  },
  {
   "cell_type": "code",
   "execution_count": null,
   "metadata": {
    "scrolled": true
   },
   "outputs": [
    {
     "data": {
      "application/vnd.jupyter.widget-view+json": {
       "model_id": "f39868850e034ef8888f17865eeaffef",
       "version_major": 2,
       "version_minor": 0
      },
      "text/plain": [
       "HBox(children=(IntProgress(value=0, max=51), HTML(value='')))"
      ]
     },
     "metadata": {},
     "output_type": "display_data"
    },
    {
     "data": {
      "application/vnd.jupyter.widget-view+json": {
       "model_id": "",
       "version_major": 2,
       "version_minor": 0
      },
      "text/plain": [
       "HBox(children=(IntProgress(value=0, max=51), HTML(value='')))"
      ]
     },
     "metadata": {},
     "output_type": "display_data"
    },
    {
     "data": {
      "application/vnd.jupyter.widget-view+json": {
       "model_id": "",
       "version_major": 2,
       "version_minor": 0
      },
      "text/plain": [
       "HBox(children=(IntProgress(value=0, max=51), HTML(value='')))"
      ]
     },
     "metadata": {},
     "output_type": "display_data"
    },
    {
     "data": {
      "application/vnd.jupyter.widget-view+json": {
       "model_id": "",
       "version_major": 2,
       "version_minor": 0
      },
      "text/plain": [
       "HBox(children=(IntProgress(value=0, max=51), HTML(value='')))"
      ]
     },
     "metadata": {},
     "output_type": "display_data"
    },
    {
     "data": {
      "application/vnd.jupyter.widget-view+json": {
       "model_id": "",
       "version_major": 2,
       "version_minor": 0
      },
      "text/plain": [
       "HBox(children=(IntProgress(value=0, max=51), HTML(value='')))"
      ]
     },
     "metadata": {},
     "output_type": "display_data"
    },
    {
     "data": {
      "application/vnd.jupyter.widget-view+json": {
       "model_id": "",
       "version_major": 2,
       "version_minor": 0
      },
      "text/plain": [
       "HBox(children=(IntProgress(value=0, max=51), HTML(value='')))"
      ]
     },
     "metadata": {},
     "output_type": "display_data"
    },
    {
     "data": {
      "application/vnd.jupyter.widget-view+json": {
       "model_id": "",
       "version_major": 2,
       "version_minor": 0
      },
      "text/plain": [
       "HBox(children=(IntProgress(value=0, max=51), HTML(value='')))"
      ]
     },
     "metadata": {},
     "output_type": "display_data"
    },
    {
     "data": {
      "application/vnd.jupyter.widget-view+json": {
       "model_id": "",
       "version_major": 2,
       "version_minor": 0
      },
      "text/plain": [
       "HBox(children=(IntProgress(value=0, max=51), HTML(value='')))"
      ]
     },
     "metadata": {},
     "output_type": "display_data"
    },
    {
     "data": {
      "application/vnd.jupyter.widget-view+json": {
       "model_id": "",
       "version_major": 2,
       "version_minor": 0
      },
      "text/plain": [
       "HBox(children=(IntProgress(value=0, max=51), HTML(value='')))"
      ]
     },
     "metadata": {},
     "output_type": "display_data"
    },
    {
     "data": {
      "application/vnd.jupyter.widget-view+json": {
       "model_id": "",
       "version_major": 2,
       "version_minor": 0
      },
      "text/plain": [
       "HBox(children=(IntProgress(value=0, max=51), HTML(value='')))"
      ]
     },
     "metadata": {},
     "output_type": "display_data"
    },
    {
     "data": {
      "application/vnd.jupyter.widget-view+json": {
       "model_id": "",
       "version_major": 2,
       "version_minor": 0
      },
      "text/plain": [
       "HBox(children=(IntProgress(value=0, max=51), HTML(value='')))"
      ]
     },
     "metadata": {},
     "output_type": "display_data"
    },
    {
     "data": {
      "application/vnd.jupyter.widget-view+json": {
       "model_id": "",
       "version_major": 2,
       "version_minor": 0
      },
      "text/plain": [
       "HBox(children=(IntProgress(value=0, max=51), HTML(value='')))"
      ]
     },
     "metadata": {},
     "output_type": "display_data"
    },
    {
     "data": {
      "application/vnd.jupyter.widget-view+json": {
       "model_id": "",
       "version_major": 2,
       "version_minor": 0
      },
      "text/plain": [
       "HBox(children=(IntProgress(value=0, max=51), HTML(value='')))"
      ]
     },
     "metadata": {},
     "output_type": "display_data"
    },
    {
     "data": {
      "application/vnd.jupyter.widget-view+json": {
       "model_id": "",
       "version_major": 2,
       "version_minor": 0
      },
      "text/plain": [
       "HBox(children=(IntProgress(value=0, max=51), HTML(value='')))"
      ]
     },
     "metadata": {},
     "output_type": "display_data"
    },
    {
     "data": {
      "application/vnd.jupyter.widget-view+json": {
       "model_id": "",
       "version_major": 2,
       "version_minor": 0
      },
      "text/plain": [
       "HBox(children=(IntProgress(value=0, max=51), HTML(value='')))"
      ]
     },
     "metadata": {},
     "output_type": "display_data"
    },
    {
     "data": {
      "application/vnd.jupyter.widget-view+json": {
       "model_id": "",
       "version_major": 2,
       "version_minor": 0
      },
      "text/plain": [
       "HBox(children=(IntProgress(value=0, max=51), HTML(value='')))"
      ]
     },
     "metadata": {},
     "output_type": "display_data"
    },
    {
     "data": {
      "application/vnd.jupyter.widget-view+json": {
       "model_id": "",
       "version_major": 2,
       "version_minor": 0
      },
      "text/plain": [
       "HBox(children=(IntProgress(value=0, max=51), HTML(value='')))"
      ]
     },
     "metadata": {},
     "output_type": "display_data"
    },
    {
     "data": {
      "application/vnd.jupyter.widget-view+json": {
       "model_id": "",
       "version_major": 2,
       "version_minor": 0
      },
      "text/plain": [
       "HBox(children=(IntProgress(value=0, max=51), HTML(value='')))"
      ]
     },
     "metadata": {},
     "output_type": "display_data"
    },
    {
     "data": {
      "application/vnd.jupyter.widget-view+json": {
       "model_id": "",
       "version_major": 2,
       "version_minor": 0
      },
      "text/plain": [
       "HBox(children=(IntProgress(value=0, max=51), HTML(value='')))"
      ]
     },
     "metadata": {},
     "output_type": "display_data"
    },
    {
     "data": {
      "application/vnd.jupyter.widget-view+json": {
       "model_id": "",
       "version_major": 2,
       "version_minor": 0
      },
      "text/plain": [
       "HBox(children=(IntProgress(value=0, max=51), HTML(value='')))"
      ]
     },
     "metadata": {},
     "output_type": "display_data"
    },
    {
     "data": {
      "application/vnd.jupyter.widget-view+json": {
       "model_id": "",
       "version_major": 2,
       "version_minor": 0
      },
      "text/plain": [
       "HBox(children=(IntProgress(value=0, max=51), HTML(value='')))"
      ]
     },
     "metadata": {},
     "output_type": "display_data"
    },
    {
     "data": {
      "application/vnd.jupyter.widget-view+json": {
       "model_id": "",
       "version_major": 2,
       "version_minor": 0
      },
      "text/plain": [
       "HBox(children=(IntProgress(value=0, max=51), HTML(value='')))"
      ]
     },
     "metadata": {},
     "output_type": "display_data"
    },
    {
     "data": {
      "application/vnd.jupyter.widget-view+json": {
       "model_id": "",
       "version_major": 2,
       "version_minor": 0
      },
      "text/plain": [
       "HBox(children=(IntProgress(value=0, max=51), HTML(value='')))"
      ]
     },
     "metadata": {},
     "output_type": "display_data"
    },
    {
     "data": {
      "application/vnd.jupyter.widget-view+json": {
       "model_id": "",
       "version_major": 2,
       "version_minor": 0
      },
      "text/plain": [
       "HBox(children=(IntProgress(value=0, max=51), HTML(value='')))"
      ]
     },
     "metadata": {},
     "output_type": "display_data"
    },
    {
     "data": {
      "application/vnd.jupyter.widget-view+json": {
       "model_id": "",
       "version_major": 2,
       "version_minor": 0
      },
      "text/plain": [
       "HBox(children=(IntProgress(value=0, max=51), HTML(value='')))"
      ]
     },
     "metadata": {},
     "output_type": "display_data"
    },
    {
     "data": {
      "application/vnd.jupyter.widget-view+json": {
       "model_id": "",
       "version_major": 2,
       "version_minor": 0
      },
      "text/plain": [
       "HBox(children=(IntProgress(value=0, max=51), HTML(value='')))"
      ]
     },
     "metadata": {},
     "output_type": "display_data"
    },
    {
     "data": {
      "application/vnd.jupyter.widget-view+json": {
       "model_id": "",
       "version_major": 2,
       "version_minor": 0
      },
      "text/plain": [
       "HBox(children=(IntProgress(value=0, max=51), HTML(value='')))"
      ]
     },
     "metadata": {},
     "output_type": "display_data"
    },
    {
     "data": {
      "application/vnd.jupyter.widget-view+json": {
       "model_id": "",
       "version_major": 2,
       "version_minor": 0
      },
      "text/plain": [
       "HBox(children=(IntProgress(value=0, max=51), HTML(value='')))"
      ]
     },
     "metadata": {},
     "output_type": "display_data"
    },
    {
     "data": {
      "application/vnd.jupyter.widget-view+json": {
       "model_id": "",
       "version_major": 2,
       "version_minor": 0
      },
      "text/plain": [
       "HBox(children=(IntProgress(value=0, max=51), HTML(value='')))"
      ]
     },
     "metadata": {},
     "output_type": "display_data"
    },
    {
     "data": {
      "application/vnd.jupyter.widget-view+json": {
       "model_id": "",
       "version_major": 2,
       "version_minor": 0
      },
      "text/plain": [
       "HBox(children=(IntProgress(value=0, max=51), HTML(value='')))"
      ]
     },
     "metadata": {},
     "output_type": "display_data"
    },
    {
     "data": {
      "application/vnd.jupyter.widget-view+json": {
       "model_id": "",
       "version_major": 2,
       "version_minor": 0
      },
      "text/plain": [
       "HBox(children=(IntProgress(value=0, max=51), HTML(value='')))"
      ]
     },
     "metadata": {},
     "output_type": "display_data"
    },
    {
     "data": {
      "application/vnd.jupyter.widget-view+json": {
       "model_id": "",
       "version_major": 2,
       "version_minor": 0
      },
      "text/plain": [
       "HBox(children=(IntProgress(value=0, max=51), HTML(value='')))"
      ]
     },
     "metadata": {},
     "output_type": "display_data"
    },
    {
     "data": {
      "application/vnd.jupyter.widget-view+json": {
       "model_id": "",
       "version_major": 2,
       "version_minor": 0
      },
      "text/plain": [
       "HBox(children=(IntProgress(value=0, max=51), HTML(value='')))"
      ]
     },
     "metadata": {},
     "output_type": "display_data"
    },
    {
     "data": {
      "application/vnd.jupyter.widget-view+json": {
       "model_id": "",
       "version_major": 2,
       "version_minor": 0
      },
      "text/plain": [
       "HBox(children=(IntProgress(value=0, max=51), HTML(value='')))"
      ]
     },
     "metadata": {},
     "output_type": "display_data"
    },
    {
     "data": {
      "application/vnd.jupyter.widget-view+json": {
       "model_id": "dfe10909588b43839ae72990c530c261",
       "version_major": 2,
       "version_minor": 0
      },
      "text/plain": [
       "HBox(children=(IntProgress(value=0, max=51), HTML(value='')))"
      ]
     },
     "metadata": {},
     "output_type": "display_data"
    }
   ],
   "source": [
    "sweep_ngng1 = tbf.DoubleSweep(tbf.diagonalize_device, 'ng1', 'ng2', ngs, ngs, **circuit_params)"
   ]
  },
  {
   "cell_type": "code",
   "execution_count": 11,
   "metadata": {},
   "outputs": [
    {
     "name": "stdout",
     "output_type": "stream",
     "text": [
      "state is 0\n",
      "(51, 51, 2, 16)\n"
     ]
    },
    {
     "data": {
      "application/vnd.jupyter.widget-view+json": {
       "model_id": "db5376571d4f44f684121240b43bc935",
       "version_major": 2,
       "version_minor": 0
      },
      "text/plain": [
       "FigureCanvasNbAgg()"
      ]
     },
     "metadata": {},
     "output_type": "display_data"
    }
   ],
   "source": [
    "tbf.plot_DoubleSpectrum(sweep_ngng1, title='pls work', \n",
    "                        ωliminGHz=[0,20.], xrange=None,yrange=None,state=0, diff=True)"
   ]
  },
  {
   "cell_type": "code",
   "execution_count": 10,
   "metadata": {},
   "outputs": [],
   "source": [
    "tbf.write_double(sweep_ngng1, filename='march12')"
   ]
  }
 ],
 "metadata": {
  "kernelspec": {
   "display_name": "Python 3",
   "language": "python",
   "name": "python3"
  },
  "language_info": {
   "codemirror_mode": {
    "name": "ipython",
    "version": 3
   },
   "file_extension": ".py",
   "mimetype": "text/x-python",
   "name": "python",
   "nbconvert_exporter": "python",
   "pygments_lexer": "ipython3",
   "version": "3.6.5"
  },
  "toc": {
   "base_numbering": 1,
   "nav_menu": {},
   "number_sections": true,
   "sideBar": true,
   "skip_h1_title": false,
   "title_cell": "Table of Contents",
   "title_sidebar": "Contents",
   "toc_cell": false,
   "toc_position": {
    "height": "265.283px",
    "left": "0px",
    "top": "32.2333px",
    "width": "165px"
   },
   "toc_section_display": true,
   "toc_window_display": true
  }
 },
 "nbformat": 4,
 "nbformat_minor": 2
}
