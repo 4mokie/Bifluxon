{
 "cells": [
  {
   "cell_type": "code",
   "execution_count": 1,
   "metadata": {},
   "outputs": [
    {
     "name": "stdout",
     "output_type": "stream",
     "text": [
      "Populating the interactive namespace from numpy and matplotlib\n"
     ]
    }
   ],
   "source": [
    "%pylab inline\n",
    "import numpy as np\n",
    "import matplotlib.pyplot as plt\n",
    "from scipy import *\n",
    "from scipy import optimize\n",
    "from wavefunction import *\n",
    "from wavefunction.wavefunction1d import *\n",
    "from wavefunction.utils import *"
   ]
  },
  {
   "cell_type": "code",
   "execution_count": 148,
   "metadata": {},
   "outputs": [],
   "source": [
    "def U_ho(x, args):\n",
    "    \"\"\"\n",
    "    Harmonic oscillator potential\n",
    "    \"\"\"\n",
    "    \n",
    "    k = args['k']\n",
    "    x0    = args['x0']\n",
    "    \n",
    "    u = 1/2 * k * ((x - x0) ** 2)\n",
    "\n",
    "    return u"
   ]
  },
  {
   "cell_type": "code",
   "execution_count": 170,
   "metadata": {},
   "outputs": [],
   "source": [
    "params = {'EJ':6.25,'EC':6.7,'EL':0.4,'ECL':5,'Delta_EJ':0}"
   ]
  },
  {
   "cell_type": "code",
   "execution_count": 171,
   "metadata": {},
   "outputs": [],
   "source": [
    "args = {'Phi_min':-4*pi,'Phi_max':4*pi,'Qdim':5,'gridsize':30}"
   ]
  },
  {
   "cell_type": "code",
   "execution_count": null,
   "metadata": {},
   "outputs": [],
   "source": [
    "E_J =params['EJ']\n",
    "E_C = params['EC']\n",
    "E_L = params['EL']\n",
    "E_CL = params['ECL']\n",
    "Delta_E_J =params['Delta_EJ']\n",
    "\n",
    "phi_min = args['Phi_min']\n",
    "phi_max = args['Phi_max']\n",
    "gridsize=args['gridsize'] # grid size along coordinate phi\n",
    "Q_dim=args['Qdim']"
   ]
  },
  {
   "cell_type": "code",
   "execution_count": 172,
   "metadata": {},
   "outputs": [],
   "source": [
    "Q_list = np.arange(Q_dim)\n",
    "# ng_list = np.linspace(np.min(Q_list),np.max(Q_list),100)\n",
    "ng_list = np.linspace(1,2,100)"
   ]
  },
  {
   "cell_type": "markdown",
   "metadata": {},
   "source": [
    "$Q$ matrix "
   ]
  },
  {
   "cell_type": "code",
   "execution_count": null,
   "metadata": {},
   "outputs": [],
   "source": [
    "Q = np.diag(Q_list).astype(np.complex)"
   ]
  },
  {
   "cell_type": "code",
   "execution_count": 173,
   "metadata": {},
   "outputs": [
    {
     "name": "stdout",
     "output_type": "stream",
     "text": [
      "0.0 0.0 0.0 0.0 0.0\n",
      "0.0 1.0 0.0 0.0 0.0\n",
      "0.0 0.0 2.0 0.0 0.0\n",
      "0.0 0.0 0.0 3.0 0.0\n",
      "0.0 0.0 0.0 0.0 4.0\n"
     ]
    }
   ],
   "source": [
    "print_matrix(Q)"
   ]
  },
  {
   "cell_type": "code",
   "execution_count": null,
   "metadata": {},
   "outputs": [],
   "source": [
    "Q_ = np.zeros((Q_dim,Q_dim)).astype(np.complex)\n",
    "for m in range(0,Q_dim):\n",
    "    for n in range(0,Q_dim):\n",
    "        Q_[m,n]=mod_kron(m+1,n)+mod_kron(m-1,n)"
   ]
  },
  {
   "cell_type": "code",
   "execution_count": 174,
   "metadata": {},
   "outputs": [
    {
     "name": "stdout",
     "output_type": "stream",
     "text": [
      "0.0 1.0 0.0 0.0 0.0\n",
      "1.0 0.0 1.0 0.0 0.0\n",
      "0.0 1.0 0.0 1.0 0.0\n",
      "0.0 0.0 1.0 0.0 1.0\n",
      "0.0 0.0 0.0 1.0 0.0\n"
     ]
    }
   ],
   "source": [
    "print_matrix(Q_)"
   ]
  },
  {
   "cell_type": "code",
   "execution_count": 175,
   "metadata": {},
   "outputs": [],
   "source": [
    "Q_p = np.zeros((Q_dim,Q_dim)).astype(np.complex)\n",
    "for m in range(0,Q_dim):\n",
    "    for n in range(0,Q_dim):\n",
    "        Q_p[m,n]=-1j*mod_kron(m+1,n)+1j*mod_kron(m-1,n)"
   ]
  },
  {
   "cell_type": "markdown",
   "metadata": {},
   "source": [
    "Real[$Q_p$]"
   ]
  },
  {
   "cell_type": "code",
   "execution_count": 176,
   "metadata": {},
   "outputs": [
    {
     "name": "stdout",
     "output_type": "stream",
     "text": [
      "0.0 0.0 0.0 0.0 0.0\n",
      "0.0 0.0 0.0 0.0 0.0\n",
      "0.0 0.0 0.0 0.0 0.0\n",
      "0.0 0.0 0.0 0.0 0.0\n",
      "0.0 0.0 0.0 0.0 0.0\n"
     ]
    }
   ],
   "source": [
    "print_matrix(Q_p)"
   ]
  },
  {
   "cell_type": "markdown",
   "metadata": {},
   "source": [
    "Img[$Q_p$]"
   ]
  },
  {
   "cell_type": "code",
   "execution_count": 177,
   "metadata": {},
   "outputs": [
    {
     "name": "stdout",
     "output_type": "stream",
     "text": [
      "0.0 -1.0 0.0 0.0 0.0\n",
      "1.0 0.0 -1.0 0.0 0.0\n",
      "0.0 1.0 0.0 -1.0 0.0\n",
      "0.0 0.0 1.0 0.0 -1.0\n",
      "0.0 0.0 0.0 1.0 0.0\n"
     ]
    }
   ],
   "source": [
    "print_matrix(Q_p/1j)"
   ]
  },
  {
   "cell_type": "markdown",
   "metadata": {},
   "source": [
    "Set $\\Phi_0$ (external frustration)"
   ]
  },
  {
   "cell_type": "code",
   "execution_count": 178,
   "metadata": {},
   "outputs": [],
   "source": [
    "phi0 = pi"
   ]
  },
  {
   "cell_type": "code",
   "execution_count": 179,
   "metadata": {},
   "outputs": [
    {
     "data": {
      "text/plain": [
       "[<matplotlib.lines.Line2D at 0x1a06439bf60>]"
      ]
     },
     "execution_count": 179,
     "metadata": {},
     "output_type": "execute_result"
    },
    {
     "data": {
      "image/png": "[encoded data removed]",
      "text/plain": [
       "<Figure size 432x288 with 1 Axes>"
      ]
     },
     "metadata": {},
     "output_type": "display_data"
    }
   ],
   "source": [
    "i=0\n",
    "spectrum = np.zeros((np.size(ng_list),3))\n",
    "x0=phi0\n",
    "x = linspace(phi_min,phi_max,gridsize+1)+x0\n",
    "U = U_ho(x, {'k': E_L, 'x0': x0})\n",
    "plt.plot(x,U,'.-')"
   ]
  },
  {
   "cell_type": "code",
   "execution_count": 180,
   "metadata": {},
   "outputs": [],
   "source": [
    "u = assemble_u_potential(U_ho, x, {'k': E_L, 'x0': x0})\n",
    "# print_matrix(assemble_V(u))"
   ]
  },
  {
   "cell_type": "markdown",
   "metadata": {},
   "source": [
    "Potential energy of superinductor"
   ]
  },
  {
   "cell_type": "code",
   "execution_count": 181,
   "metadata": {},
   "outputs": [],
   "source": [
    "V = np.kron(np.diag(ones(Q_dim)),assemble_V(u))"
   ]
  },
  {
   "cell_type": "markdown",
   "metadata": {},
   "source": [
    "Kinetic energy of superinductor"
   ]
  },
  {
   "cell_type": "code",
   "execution_count": 182,
   "metadata": {},
   "outputs": [
    {
     "name": "stdout",
     "output_type": "stream",
     "text": [
      "The first 4 dimensions of Q\n",
      "57.0 -28.5 -0.0 -0.0\n",
      "-28.5 57.0 -28.5 -0.0\n",
      "-0.0 -28.5 57.0 -28.5\n",
      "-0.0 -0.0 -28.5 57.0\n",
      "Diagonal element : 25.330\n"
     ]
    }
   ],
   "source": [
    "K = np.kron (np.diag(ones(Q_dim)),assemble_K(-4*E_CL,x))\n",
    "print('The first 4 dimensions of Q')\n",
    "print_matrix(assemble_K(-4*E_CL,x)[:4,:4])\n",
    "print('Diagonal element : %.3f' %(-2*(-4*E_CL)/((x.max()-x.min())/N)**2))"
   ]
  },
  {
   "cell_type": "code",
   "execution_count": 183,
   "metadata": {},
   "outputs": [],
   "source": [
    "H = K+V"
   ]
  },
  {
   "cell_type": "markdown",
   "metadata": {},
   "source": [
    "Symmetric CPB"
   ]
  },
  {
   "cell_type": "code",
   "execution_count": 184,
   "metadata": {},
   "outputs": [
    {
     "data": {
      "text/plain": [
       "[<matplotlib.lines.Line2D at 0x1a0646e0390>]"
      ]
     },
     "execution_count": 184,
     "metadata": {},
     "output_type": "execute_result"
    },
    {
     "data": {
      "image/png": "[encoded data removed]",
      "text/plain": [
       "<Figure size 432x288 with 1 Axes>"
      ]
     },
     "metadata": {},
     "output_type": "display_data"
    }
   ],
   "source": [
    "u = -E_J * np.cos(x/2)\n",
    "plt.plot(x,u,'.-')"
   ]
  },
  {
   "cell_type": "code",
   "execution_count": 185,
   "metadata": {},
   "outputs": [],
   "source": [
    "V = np.kron(Q_, assemble_V(u)) \n",
    "# print_matrix(assemble_V(u))\n",
    "H +=V"
   ]
  },
  {
   "cell_type": "code",
   "execution_count": 186,
   "metadata": {},
   "outputs": [],
   "source": [
    "# asymmetry in CPB\n",
    "if True:\n",
    "    u = - 1./2 *Delta_E_J* np.sin(x/2)\n",
    "    V = np.kron(Q_p,assemble_V(u)) \n",
    "    H += V "
   ]
  },
  {
   "cell_type": "markdown",
   "metadata": {},
   "source": [
    "Print $(\\hat{n}-n_g)^2$ for given $n_g$"
   ]
  },
  {
   "cell_type": "code",
   "execution_count": 187,
   "metadata": {},
   "outputs": [
    {
     "name": "stdout",
     "output_type": "stream",
     "text": [
      "1.0 0.0 0.0 0.0 0.0\n",
      "0.0 0.0 0.0 0.0 0.0\n",
      "0.0 0.0 1.0 0.0 0.0\n",
      "0.0 0.0 0.0 4.0 0.0\n",
      "0.0 0.0 0.0 0.0 9.0\n"
     ]
    }
   ],
   "source": [
    "ng = 1.\n",
    "print_matrix(np.diag((Q_list-ng)**2))"
   ]
  },
  {
   "cell_type": "code",
   "execution_count": 2,
   "metadata": {},
   "outputs": [],
   "source": [
    "from AC_qubit_func import spectrum_vs_ng"
   ]
  },
  {
   "cell_type": "code",
   "execution_count": 3,
   "metadata": {},
   "outputs": [],
   "source": [
    "params = {'EJ':6.25,'EC':6.7,'EL':0.4,'ECL':5,'Delta_EJ':0}"
   ]
  },
  {
   "cell_type": "code",
   "execution_count": 4,
   "metadata": {},
   "outputs": [],
   "source": [
    "args = {'Phi_min':-4*pi,'Phi_max':4*pi,'Qdim':6,'gridsize':30}"
   ]
  },
  {
   "cell_type": "code",
   "execution_count": 5,
   "metadata": {},
   "outputs": [],
   "source": [
    "Q_dim = args['Qdim']\n",
    "Q_list = np.arange(Q_dim)-2\n",
    "# ng_list = np.linspace(np.min(Q_list),np.max(Q_list),100)\n",
    "ng_list = np.linspace(-2,2,100)\n",
    "Phi0=0"
   ]
  },
  {
   "cell_type": "code",
   "execution_count": 6,
   "metadata": {},
   "outputs": [],
   "source": [
    "spectrum = spectrum_vs_ng(ng_list,Q_list,Phi0,params,args,asymEJ=True)"
   ]
  },
  {
   "cell_type": "code",
   "execution_count": 14,
   "metadata": {},
   "outputs": [
    {
     "data": {
      "text/plain": [
       "Text(0.5,1,'\\\\TeX')"
      ]
     },
     "execution_count": 14,
     "metadata": {},
     "output_type": "execute_result"
    },
    {
     "data": {
      "image/png": "[encoded data removed]",
      "text/plain": [
       "<Figure size 432x288 with 1 Axes>"
      ]
     },
     "metadata": {},
     "output_type": "display_data"
    }
   ],
   "source": [
    "plt.rc('text', usetex=True)\n",
    "plt.plot(spectrum[:,0],spectrum[:,1],'o-')\n",
    "# plt.plot(spectrum[:,0],spectrum[:,2],'o-')\n",
    "plt.title(r'\\TeX')"
   ]
  },
  {
   "cell_type": "code",
   "execution_count": 82,
   "metadata": {},
   "outputs": [],
   "source": [
    "from AC_qubit_func import spectrum_vs_phi0"
   ]
  },
  {
   "cell_type": "code",
   "execution_count": 51,
   "metadata": {},
   "outputs": [],
   "source": [
    "params = {'EJ':6.25,'EC':6.7,'EL':0.4,'ECL':5,'Delta_EJ':0.5}"
   ]
  },
  {
   "cell_type": "code",
   "execution_count": 62,
   "metadata": {},
   "outputs": [],
   "source": [
    "args = {'Phi_min':-4*pi,'Phi_max':4*pi,'Qdim':4,'gridsize':30}"
   ]
  },
  {
   "cell_type": "code",
   "execution_count": 67,
   "metadata": {},
   "outputs": [],
   "source": [
    "Q_dim = args['Qdim']\n",
    "Q_list = np.arange(Q_dim)-2\n",
    "ng_list = [0,0.5]\n",
    "phi0_list = linspace(-2*pi,pi*2,60)"
   ]
  },
  {
   "cell_type": "code",
   "execution_count": 68,
   "metadata": {},
   "outputs": [],
   "source": [
    "spectrum = spectrum_vs_phi0(phi0_list,Q_list,ng_list,params,args)"
   ]
  },
  {
   "cell_type": "code",
   "execution_count": 69,
   "metadata": {},
   "outputs": [
    {
     "data": {
      "text/plain": [
       "(120, 3)"
      ]
     },
     "execution_count": 69,
     "metadata": {},
     "output_type": "execute_result"
    }
   ],
   "source": [
    "spectrum.shape"
   ]
  },
  {
   "cell_type": "code",
   "execution_count": 70,
   "metadata": {},
   "outputs": [
    {
     "data": {
      "text/plain": [
       "[<matplotlib.lines.Line2D at 0x22184477a20>]"
      ]
     },
     "execution_count": 70,
     "metadata": {},
     "output_type": "execute_result"
    },
    {
     "data": {
      "image/png": "[encoded data removed]",
      "text/plain": [
       "<Figure size 432x288 with 1 Axes>"
      ]
     },
     "metadata": {},
     "output_type": "display_data"
    }
   ],
   "source": [
    "plt.plot(spectrum[:,0],spectrum[:,1],'.')\n",
    "plt.plot(spectrum[:,0],spectrum[:,2],'.')"
   ]
  },
  {
   "cell_type": "code",
   "execution_count": null,
   "metadata": {},
   "outputs": [],
   "source": []
  }
 ],
 "metadata": {
  "kernelspec": {
   "display_name": "Python 3",
   "language": "python",
   "name": "python3"
  },
  "language_info": {
   "codemirror_mode": {
    "name": "ipython",
    "version": 3
   },
   "file_extension": ".py",
   "mimetype": "text/x-python",
   "name": "python",
   "nbconvert_exporter": "python",
   "pygments_lexer": "ipython3",
   "version": "3.6.5"
  }
 },
 "nbformat": 4,
 "nbformat_minor": 2
}
