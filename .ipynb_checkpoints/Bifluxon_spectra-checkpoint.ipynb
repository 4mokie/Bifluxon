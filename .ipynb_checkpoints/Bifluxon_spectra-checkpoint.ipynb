{
 "cells": [
  {
   "cell_type": "markdown",
   "metadata": {
    "slideshow": {
     "slide_type": "slide"
    },
    "toc": true
   },
   "source": [
    "<h1>Table of Contents<span class=\"tocSkip\"></span></h1>\n",
    "<div class=\"toc\"><ul class=\"toc-item\"><li><ul class=\"toc-item\"><li><span><a href=\"#lib-load\" data-toc-modified-id=\"lib-load-0.1\"><span class=\"toc-item-num\">0.1&nbsp;&nbsp;</span>lib load</a></span></li><li><span><a href=\"#Fi-ext-list\" data-toc-modified-id=\"Fi-ext-list-0.2\"><span class=\"toc-item-num\">0.2&nbsp;&nbsp;</span>Fi ext list</a></span></li><li><span><a href=\"#Qubit-def\" data-toc-modified-id=\"Qubit-def-0.3\"><span class=\"toc-item-num\">0.3&nbsp;&nbsp;</span>Qubit def</a></span></li><li><span><a href=\"#Spectrum\" data-toc-modified-id=\"Spectrum-0.4\"><span class=\"toc-item-num\">0.4&nbsp;&nbsp;</span>Spectrum</a></span></li></ul></li><li><span><a href=\"#Matrix-element\" data-toc-modified-id=\"Matrix-element-1\"><span class=\"toc-item-num\">1&nbsp;&nbsp;</span>Matrix element</a></span></li><li><span><a href=\"#T1-eval\" data-toc-modified-id=\"T1-eval-2\"><span class=\"toc-item-num\">2&nbsp;&nbsp;</span>T1 eval</a></span></li><li><span><a href=\"#analytical-approach-to-ng-=-0\" data-toc-modified-id=\"analytical-approach-to-ng-=-0-3\"><span class=\"toc-item-num\">3&nbsp;&nbsp;</span>analytical approach to ng = 0</a></span><ul class=\"toc-item\"><li><span><a href=\"#Dispersive-shift\" data-toc-modified-id=\"Dispersive-shift-3.1\"><span class=\"toc-item-num\">3.1&nbsp;&nbsp;</span>Dispersive shift</a></span></li></ul></li></ul></div>"
   ]
  },
  {
   "cell_type": "markdown",
   "metadata": {
    "slideshow": {
     "slide_type": "slide"
    }
   },
   "source": [
    "assymetry\n",
    "dispesive shift for e and 2e\n",
    "T1\n"
   ]
  },
  {
   "cell_type": "markdown",
   "metadata": {},
   "source": [
    "## lib load"
   ]
  },
  {
   "cell_type": "code",
   "execution_count": 1,
   "metadata": {},
   "outputs": [],
   "source": [
    "%matplotlib widget"
   ]
  },
  {
   "cell_type": "code",
   "execution_count": 2,
   "metadata": {
    "slideshow": {
     "slide_type": "fragment"
    }
   },
   "outputs": [
    {
     "name": "stderr",
     "output_type": "stream",
     "text": [
      "D:\\anaconda\\lib\\site-packages\\tqdm\\autonotebook\\__init__.py:14: TqdmExperimentalWarning: Using `tqdm.autonotebook.tqdm` in notebook mode. Use `tqdm.tqdm` instead to force console mode (e.g. in jupyter console)\n",
      "  \" (e.g. in jupyter console)\", TqdmExperimentalWarning)\n"
     ]
    }
   ],
   "source": [
    "# %matplotlib inline\n",
    "%load_ext autoreload\n",
    "%autoreload 2\n",
    "\n",
    "\n",
    "import matplotlib.pyplot as plt\n",
    "import numpy as np\n",
    "\n",
    "from ACqubit import *\n",
    "from ACstate import *\n",
    "from wavefunction1d import *\n",
    "\n",
    "from tqdm import tqdm, tqdm_notebook\n",
    "#from tqdm.autonotebook import tqdm\n",
    "\n",
    "pi = np.pi"
   ]
  },
  {
   "cell_type": "markdown",
   "metadata": {},
   "source": [
    "## Fi ext list"
   ]
  },
  {
   "cell_type": "code",
   "execution_count": 3,
   "metadata": {},
   "outputs": [],
   "source": [
    "    Nfi_ext = 51\n",
    "    fi_ext_min, fi_ext_max = [-0*pi, 1*pi]\n",
    "    fi_ext_list = np.linspace(fi_ext_min, fi_ext_max, Nfi_ext)[1:-1]\n",
    "    dfi_ext = ( fi_ext_max - fi_ext_min ) /Nfi_ext"
   ]
  },
  {
   "cell_type": "markdown",
   "metadata": {},
   "source": [
    "## Qubit def"
   ]
  },
  {
   "cell_type": "code",
   "execution_count": 5,
   "metadata": {
    "slideshow": {
     "slide_type": "notes"
    }
   },
   "outputs": [],
   "source": [
    "\n",
    "\n",
    "J1 = 4\n",
    "J2 = 4\n",
    "\n",
    "\n",
    "\n",
    "ACQ_Manu = ACQubit (E_CL = 10, \n",
    "              E_L = 0.1, \n",
    "              E_J = (J1+J2)/2, \n",
    "              E_C = 2,\n",
    "              dE_J = (J2-J1)/2 )\n",
    "\n"
   ]
  },
  {
   "cell_type": "markdown",
   "metadata": {},
   "source": [
    "## Spectrum"
   ]
  },
  {
   "cell_type": "code",
   "execution_count": 11,
   "metadata": {},
   "outputs": [
    {
     "data": {
      "application/vnd.jupyter.widget-view+json": {
       "model_id": "",
       "version_major": 2,
       "version_minor": 0
      },
      "text/plain": [
       "FigureCanvasNbAgg()"
      ]
     },
     "metadata": {},
     "output_type": "display_data"
    },
    {
     "data": {
      "application/vnd.jupyter.widget-view+json": {
       "model_id": "",
       "version_major": 2,
       "version_minor": 0
      },
      "text/plain": [
       "HBox(children=(IntProgress(value=0, description='ng = 0.5', max=49, style=ProgressStyle(description_width='ini…"
      ]
     },
     "metadata": {},
     "output_type": "display_data"
    },
    {
     "name": "stdout",
     "output_type": "stream",
     "text": [
      "\n"
     ]
    },
    {
     "data": {
      "application/vnd.jupyter.widget-view+json": {
       "model_id": "",
       "version_major": 2,
       "version_minor": 0
      },
      "text/plain": [
       "HBox(children=(IntProgress(value=0, description='ng = 0', max=49, style=ProgressStyle(description_width='initi…"
      ]
     },
     "metadata": {},
     "output_type": "display_data"
    },
    {
     "name": "stdout",
     "output_type": "stream",
     "text": [
      "\n"
     ]
    },
    {
     "data": {
      "text/plain": [
       "<matplotlib.axes._subplots.AxesSubplot at 0x2a0a696db00>"
      ]
     },
     "execution_count": 11,
     "metadata": {},
     "output_type": "execute_result"
    }
   ],
   "source": [
    "ACQ_Manu.plot_spectrum(fi_ext_list = fi_ext_list, ng_list = [0.5, 0], bands = [[1,2]]) "
   ]
  }
 ],
 "metadata": {
  "kernelspec": {
   "display_name": "Python 3",
   "language": "python",
   "name": "python3"
  },
  "language_info": {
   "codemirror_mode": {
    "name": "ipython",
    "version": 3
   },
   "file_extension": ".py",
   "mimetype": "text/x-python",
   "name": "python",
   "nbconvert_exporter": "python",
   "pygments_lexer": "ipython3",
   "version": "3.6.5"
  },
  "toc": {
   "base_numbering": 1,
   "nav_menu": {
    "height": "103px",
    "width": "295px"
   },
   "number_sections": true,
   "sideBar": true,
   "skip_h1_title": false,
   "title_cell": "Table of Contents",
   "title_sidebar": "Contents",
   "toc_cell": true,
   "toc_position": {
    "height": "100px",
    "left": "25px",
    "top": "110.364px",
    "width": "165px"
   },
   "toc_section_display": true,
   "toc_window_display": true
  }
 },
 "nbformat": 4,
 "nbformat_minor": 2
}
