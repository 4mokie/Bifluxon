{
 "cells": [
  {
   "cell_type": "code",
   "execution_count": 1,
   "metadata": {},
   "outputs": [],
   "source": [
    "%matplotlib widget\n",
    "import matplotlib.pyplot as plt\n",
    "import numpy as np"
   ]
  },
  {
   "cell_type": "code",
   "execution_count": 143,
   "metadata": {},
   "outputs": [],
   "source": [
    "def Cp(h,w):\n",
    "    beta = 1\n",
    "    return beta* h**1/h *np.log(1 + 2*w/0.3  + (w/0.3)**2)\n",
    "\n",
    "def C0(h,d):\n",
    "    alpha = 7\n",
    "    return alpha/np.log(h/d)\n",
    "\n",
    "def f_res(l, L ,C):\n",
    "    return 1/l/np.sqrt(L*C)\n",
    "\n",
    "\n",
    "def l(m, h, w ):\n",
    "    return m*h + (m-1)*w"
   ]
  },
  {
   "cell_type": "code",
   "execution_count": 144,
   "metadata": {},
   "outputs": [
    {
     "name": "stderr",
     "output_type": "stream",
     "text": [
      "D:\\anaconda\\lib\\site-packages\\ipykernel_launcher.py:21: RuntimeWarning: More than 20 figures have been opened. Figures created through the pyplot interface (`matplotlib.pyplot.figure`) are retained until explicitly closed and may consume too much memory. (To control this warning, see the rcParam `figure.max_open_warning`).\n"
     ]
    },
    {
     "data": {
      "application/vnd.jupyter.widget-view+json": {
       "model_id": "0eaa30d42d8545369b01e74a20d90c29",
       "version_major": 2,
       "version_minor": 0
      },
      "text/plain": [
       "FigureCanvasNbAgg()"
      ]
     },
     "metadata": {},
     "output_type": "display_data"
    },
    {
     "name": "stderr",
     "output_type": "stream",
     "text": [
      "D:\\anaconda\\lib\\site-packages\\ipykernel_launcher.py:26: RuntimeWarning: More than 20 figures have been opened. Figures created through the pyplot interface (`matplotlib.pyplot.figure`) are retained until explicitly closed and may consume too much memory. (To control this warning, see the rcParam `figure.max_open_warning`).\n"
     ]
    },
    {
     "data": {
      "application/vnd.jupyter.widget-view+json": {
       "model_id": "5dded958af9c4aec91a8dd413e3f9dca",
       "version_major": 2,
       "version_minor": 0
      },
      "text/plain": [
       "FigureCanvasNbAgg()"
      ]
     },
     "metadata": {},
     "output_type": "display_data"
    },
    {
     "data": {
      "text/plain": [
       "[<matplotlib.lines.Line2D at 0x203599ffba8>]"
      ]
     },
     "execution_count": 144,
     "metadata": {},
     "output_type": "execute_result"
    }
   ],
   "source": [
    "\n",
    "l_tot = 150\n",
    "\n",
    "\n",
    "w = 0.3\n",
    "d = 0.3\n",
    "\n",
    "m_list = np.linspace(2, 27, 101)\n",
    "# h_list = np.linspace(1,131,30)\n",
    "\n",
    "\n",
    "\n",
    "h_list =  (l_tot- (m_list - 1) ) /(m_list - 1) \n",
    "\n",
    "a = w*m_list\n",
    "\n",
    "\n",
    "f_list = f_res(l_tot, 1 , Cp(h_list, w) + h_list*C0(  np.sqrt(h_list**2 + a**2)  ,d))\n",
    "\n",
    "\n",
    "fig, ax  = plt.subplots()\n",
    "ax.plot(h_list, Cp(h_list, w) )\n",
    "ax.plot(h_list, 1*C0(  np.sqrt(h_list**2 + a**2),d ) )\n",
    "\n",
    "\n",
    "fig, ax  = plt.subplots()\n",
    "ax.plot(h_list, f_list)\n",
    "\n",
    "ax2 = ax.twinx()\n",
    "\n",
    "ax2.plot( m1_h, m1_f, 'x' )\n",
    "\n",
    "# print(f_list)\n"
   ]
  },
  {
   "cell_type": "code",
   "execution_count": 29,
   "metadata": {},
   "outputs": [],
   "source": [
    "class meander():\n",
    "    def __init__(self, m, h, w, d):\n",
    "        self.m = m\n",
    "        self.h = h\n",
    "        self.w = w\n",
    "        self.d = d\n",
    "        \n",
    "        self.l = m*h + (m-1)*w\n",
    "        \n",
    "        \n",
    "    def Cp(self):\n",
    "        beta = 1\n",
    "        return beta*self.h/self.w\n",
    "\n",
    "    def C0(self):\n",
    "        alpha = 1700\n",
    "        return alpha/np.log(self.h/self.d)\n",
    "\n",
    "    def f_res(self, Lsq):\n",
    "        return 1/2/np.pi/np.sqrt(Lsq*self.l/self.w * (self.C0 + self.Cp) )"
   ]
  },
  {
   "cell_type": "code",
   "execution_count": 30,
   "metadata": {},
   "outputs": [],
   "source": [
    "m1_m = np.array([1, 5, 20, 50])\n",
    "m1_h = np.array([130.5, 29, 7.5, 3])\n",
    "m1_f = np.array([5.127, 6.461, 4.771, 3.214])\n",
    "\n",
    "\n",
    "m2_m = np.array([1, 5, 20, 50])\n",
    "m2_h = np.array([130.5, 29, 7.5, 3])\n",
    "m2_f = np.array([4.643, 5.732, 4.724, 3.374])\n",
    "\n",
    "\n",
    "m1s = [meander( m = m1, h = h1, w = 0.3, d = 0.3 ) for m1, h1 in zip (m1_m, m1_h) ]"
   ]
  },
  {
   "cell_type": "code",
   "execution_count": 28,
   "metadata": {},
   "outputs": [
    {
     "data": {
      "application/vnd.jupyter.widget-view+json": {
       "model_id": "cb0f7a4bc94a4f79b13f846df424d028",
       "version_major": 2,
       "version_minor": 0
      },
      "text/plain": [
       "FigureCanvasNbAgg()"
      ]
     },
     "metadata": {},
     "output_type": "display_data"
    },
    {
     "data": {
      "text/plain": [
       "[<matplotlib.lines.Line2D at 0x2033fd916d8>]"
      ]
     },
     "execution_count": 28,
     "metadata": {},
     "output_type": "execute_result"
    }
   ],
   "source": [
    "h_list = np.linspace(1,131,30)\n",
    "\n",
    "# f_list = f_res(1,Cp(h_list, .3)+C0(h_list,.3))\n",
    "\n",
    "fig, ax  = plt.subplots()\n",
    "ax.plot(h_list, f_list)\n",
    "\n",
    "ax2 = ax.twinx()\n",
    "\n",
    "ax2.plot( m1_h, m1_f, 'x' )"
   ]
  }
 ],
 "metadata": {
  "kernelspec": {
   "display_name": "Python 3",
   "language": "python",
   "name": "python3"
  },
  "language_info": {
   "codemirror_mode": {
    "name": "ipython",
    "version": 3
   },
   "file_extension": ".py",
   "mimetype": "text/x-python",
   "name": "python",
   "nbconvert_exporter": "python",
   "pygments_lexer": "ipython3",
   "version": "3.6.5"
  }
 },
 "nbformat": 4,
 "nbformat_minor": 2
}
