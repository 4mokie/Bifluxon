{
 "cells": [
  {
   "cell_type": "code",
   "execution_count": 77,
   "metadata": {},
   "outputs": [],
   "source": [
    "%matplotlib widget\n",
    "import matplotlib.pyplot as plt\n",
    "import numpy as np\n",
    "\n",
    "from functools import reduce\n",
    "\n",
    "\n",
    "from tqdm import tqdm, tqdm_notebook\n",
    "\n",
    "from wavefunction1d import solve_eigenproblem\n",
    "\n",
    "pi = np.pi"
   ]
  },
  {
   "cell_type": "code",
   "execution_count": 8,
   "metadata": {},
   "outputs": [],
   "source": [
    "# QuTip\n",
    "from qutip import Options, Qobj, basis, destroy, create, qeye, tensor, Cubic_Spline\n",
    "from scipy.sparse import diags"
   ]
  },
  {
   "cell_type": "code",
   "execution_count": 11,
   "metadata": {},
   "outputs": [],
   "source": [
    "Sx       = 101 \n",
    "mformat  = 'csr'\n",
    "dtype    = 'complex128'\n",
    "x_pts = np.linspace(-100, 100, Sx, endpoint=True, dtype=dtype)\n",
    "\n",
    "\n",
    "def build_operator(operator_name='idx', Dx=None):\n",
    "    \n",
    "    \"\"\"\n",
    "    Returns sparse operators in phase space. \n",
    "    \"\"\"\n",
    "\n",
    "    x_pts = np.linspace(-Dx, Dx, Sx, endpoint=True, dtype=dtype)\n",
    "    dx    = x_pts[-1] - x_pts[-2] \n",
    "    \n",
    "    if operator_name == 'idx':\n",
    "        op = Qobj(diags(np.ones(x_pts.size), 0, shape=(Sx,Sx), format=mformat, dtype=dtype))\n",
    "    \n",
    "    elif operator_name == 'd1x':\n",
    "        d1_coeff = (1.0 / (2.0 * dx))\n",
    "        op       = Qobj(diags([-d1_coeff, d1_coeff], [-1,1], shape=(Sx,Sx), format=mformat, dtype=dtype))\n",
    "    \n",
    "    elif operator_name == 'd2x':\n",
    "        d2_coeff = (1.0 / (dx**2))\n",
    "        op       = Qobj(diags([d2_coeff, -2.0 * d2_coeff, d2_coeff], [-1,0,1], shape=(Sx,Sx), format=mformat, dtype=dtype))\n",
    "    \n",
    "    elif operator_name == 'x':\n",
    "        op = Qobj(diags(x_pts, 0, shape=(Sx,Sx), format=mformat, dtype=dtype))\n",
    "    \n",
    "    elif operator_name == 'x2':\n",
    "        op = Qobj(diags(x_pts**2, 0, shape=(Sx,Sx), format=mformat, dtype=dtype))\n",
    "    \n",
    "    elif operator_name == 'cos(x)':\n",
    "        op = Qobj(diags(np.cos(x_pts), 0, shape=(Sx,Sx), format=mformat, dtype=dtype))\n",
    "    \n",
    "    elif operator_name == 'sin(x)':\n",
    "        op = Qobj(diags(np.sin(x_pts), 0, shape=(Sx,Sx), format=mformat, dtype=dtype))\n",
    "\n",
    "    elif operator_name == 'cos(x/2)':\n",
    "        op = Qobj(diags(np.cos(x_pts/2.), 0, shape=(Sx,Sx), format=mformat, dtype=dtype))\n",
    "    \n",
    "    elif operator_name == 'sin(x/2)':\n",
    "        op = Qobj(diags(np.sin(x_pts/2.), 0, shape=(Sx,Sx), format=mformat, dtype=dtype))\n",
    "\n",
    "    return op"
   ]
  },
  {
   "cell_type": "code",
   "execution_count": 64,
   "metadata": {},
   "outputs": [
    {
     "data": {
      "text/latex": [
       "Quantum object: dims = [[13], [13]], shape = (13, 13), type = oper, isherm = True\\begin{equation*}\\left(\\begin{array}{*{11}c}0.0 & 0.500 & 0.0 & 0.0 & 0.0 & \\cdots & 0.0 & 0.0 & 0.0 & 0.0 & 0.0\\\\0.500 & 0.0 & 0.500 & 0.0 & 0.0 & \\cdots & 0.0 & 0.0 & 0.0 & 0.0 & 0.0\\\\0.0 & 0.500 & 0.0 & 0.500 & 0.0 & \\cdots & 0.0 & 0.0 & 0.0 & 0.0 & 0.0\\\\0.0 & 0.0 & 0.500 & 0.0 & 0.500 & \\cdots & 0.0 & 0.0 & 0.0 & 0.0 & 0.0\\\\0.0 & 0.0 & 0.0 & 0.500 & 0.0 & \\cdots & 0.0 & 0.0 & 0.0 & 0.0 & 0.0\\\\\\vdots & \\vdots & \\vdots & \\vdots & \\vdots & \\ddots & \\vdots & \\vdots & \\vdots & \\vdots & \\vdots\\\\0.0 & 0.0 & 0.0 & 0.0 & 0.0 & \\cdots & 0.0 & 0.500 & 0.0 & 0.0 & 0.0\\\\0.0 & 0.0 & 0.0 & 0.0 & 0.0 & \\cdots & 0.500 & 0.0 & 0.500 & 0.0 & 0.0\\\\0.0 & 0.0 & 0.0 & 0.0 & 0.0 & \\cdots & 0.0 & 0.500 & 0.0 & 0.500 & 0.0\\\\0.0 & 0.0 & 0.0 & 0.0 & 0.0 & \\cdots & 0.0 & 0.0 & 0.500 & 0.0 & 0.500\\\\0.0 & 0.0 & 0.0 & 0.0 & 0.0 & \\cdots & 0.0 & 0.0 & 0.0 & 0.500 & 0.0\\\\\\end{array}\\right)\\end{equation*}"
      ],
      "text/plain": [
       "Quantum object: dims = [[13], [13]], shape = (13, 13), type = oper, isherm = True\n",
       "Qobj data =\n",
       "[[0.  0.5 0.  0.  0.  0.  0.  0.  0.  0.  0.  0.  0. ]\n",
       " [0.5 0.  0.5 0.  0.  0.  0.  0.  0.  0.  0.  0.  0. ]\n",
       " [0.  0.5 0.  0.5 0.  0.  0.  0.  0.  0.  0.  0.  0. ]\n",
       " [0.  0.  0.5 0.  0.5 0.  0.  0.  0.  0.  0.  0.  0. ]\n",
       " [0.  0.  0.  0.5 0.  0.5 0.  0.  0.  0.  0.  0.  0. ]\n",
       " [0.  0.  0.  0.  0.5 0.  0.5 0.  0.  0.  0.  0.  0. ]\n",
       " [0.  0.  0.  0.  0.  0.5 0.  0.5 0.  0.  0.  0.  0. ]\n",
       " [0.  0.  0.  0.  0.  0.  0.5 0.  0.5 0.  0.  0.  0. ]\n",
       " [0.  0.  0.  0.  0.  0.  0.  0.5 0.  0.5 0.  0.  0. ]\n",
       " [0.  0.  0.  0.  0.  0.  0.  0.  0.5 0.  0.5 0.  0. ]\n",
       " [0.  0.  0.  0.  0.  0.  0.  0.  0.  0.5 0.  0.5 0. ]\n",
       " [0.  0.  0.  0.  0.  0.  0.  0.  0.  0.  0.5 0.  0.5]\n",
       " [0.  0.  0.  0.  0.  0.  0.  0.  0.  0.  0.  0.5 0. ]]"
      ]
     },
     "execution_count": 64,
     "metadata": {},
     "output_type": "execute_result"
    }
   ],
   "source": [
    "Ec = 30\n",
    "EL = 0.5\n",
    "Ej = 10\n",
    "\n",
    "Nφ = 6\n",
    "\n",
    "phi_max, Nphi = 10*np.pi, 501\n",
    "phi_arr = np.linspace(-phi_max, phi_max, Nphi)\n",
    "\n",
    "dims = [2*Nφ + 1, Nphi]\n",
    "\n",
    "dphi = 2*phi_max/Nphi \n",
    "\n",
    "idx = Qobj(diags(np.ones(Nphi), 0, shape=(Nphi,Nphi), format=mformat, dtype=dtype))\n",
    "\n",
    "phi = Qobj(diags(phi_arr, 0, shape=(Nphi,Nphi), format=mformat, dtype=dtype))\n",
    "\n",
    "cos_phi = Qobj(diags(np.cos(phi_arr), 0, shape=(Nphi,Nphi), format=mformat, dtype=dtype))\n",
    "\n",
    "def phi2 (phi_ext = 0):\n",
    "    return Qobj(diags((phi_arr - phi_ext)**2, 0, shape=(Nphi,Nphi), format=mformat, dtype=dtype))\n",
    "\n",
    "d2_coeff = (1.0 / (dphi**2))\n",
    "d2phi = Qobj(diags([d2_coeff, -2.0 * d2_coeff, d2_coeff], [-1,0,1], \n",
    "                   shape=(Nphi,Nphi), format=mformat, dtype=dtype))\n",
    "\n",
    "nφ   = Qobj(diags(np.arange(-Nφ,Nφ+1,1), 0, shape=(2*Nφ + 1, 2*Nφ + 1), format='csr', dtype='complex128'))\n",
    "cosφ = Qobj(diags([0.5,0.5], [-1,1], shape=(2*Nφ + 1, 2*Nφ + 1), format='csr', dtype='complex128'))\n",
    "sinφ = Qobj(diags([-.5j,.5j], [-1,1], shape=(2*Nφ + 1, 2*Nφ + 1), format='csr', dtype='complex128'))\n",
    "\n",
    "cosφ"
   ]
  },
  {
   "cell_type": "code",
   "execution_count": 68,
   "metadata": {},
   "outputs": [],
   "source": [
    "\n",
    "\n",
    "def flux_ops (**params):\n",
    "    op_dict = {\n",
    "    'x'      : Qobj(diags(phi_arr, 0, shape=(Nphi,Nphi), format=mformat, dtype=dtype)),\n",
    "    'x2'     : Qobj(diags((phi_arr - phi_ext)**2, 0, shape=(Nphi,Nphi), format=mformat, dtype=dtype)),\n",
    "    'cos(x)' : Qobj(diags(np.cos(phi_arr), 0, shape=(Nphi,Nphi), format=mformat, dtype=dtype))\n",
    "    }\n",
    "    return op_dict\n",
    "\n",
    "\n",
    "def charge_ops (**params):\n",
    "    op_dict = {\n",
    "    'nφ' : Qobj(diags(np.arange(-Nφ,Nφ+1,1), 0, shape=(2*Nφ + 1, 2*Nφ + 1), format='csr', dtype='complex128')),\n",
    "    'cosφ' : Qobj(diags([0.5,0.5], [-1,1], shape=(2*Nφ + 1, 2*Nφ + 1), format='csr', dtype='complex128')),\n",
    "    'sinφ' : Qobj(diags([-.5j,.5j], [-1,1], shape=(2*Nφ + 1, 2*Nφ + 1), format='csr', dtype='complex128'))\n",
    "    }\n",
    "    return op_dict\n"
   ]
  },
  {
   "cell_type": "code",
   "execution_count": 73,
   "metadata": {},
   "outputs": [
    {
     "data": {
      "text/plain": [
       "(13, 13)"
      ]
     },
     "execution_count": 73,
     "metadata": {},
     "output_type": "execute_result"
    }
   ],
   "source": [
    "charge_ops()['nφ'].shape"
   ]
  },
  {
   "cell_type": "code",
   "execution_count": 75,
   "metadata": {},
   "outputs": [],
   "source": [
    "def compose(operator, index, dims):\n",
    "\n",
    "    '''\n",
    "    Returns the operator composed in a multiqubit Hilbert space.\n",
    "    '''\n",
    "\n",
    "    op_list        = [qeye(dim) for dim in dims]\n",
    "    op_list[index] = operator\n",
    "\n",
    "    return reduce(tensor, op_list)"
   ]
  },
  {
   "cell_type": "code",
   "execution_count": 76,
   "metadata": {},
   "outputs": [],
   "source": [
    "def batch_compose(dicts, dims):\n",
    "    \n",
    "#     dims = []\n",
    "    out = []\n",
    "    for i, dct in enumerate(dicts):\n",
    "        for key, val in dct.items():\n",
    "            dct[key] =  compose(dct[key], i, dims)\n",
    "        out.append(dct)\n",
    "    return out"
   ]
  },
  {
   "cell_type": "code",
   "execution_count": 74,
   "metadata": {},
   "outputs": [
    {
     "ename": "NameError",
     "evalue": "name 'compose' is not defined",
     "output_type": "error",
     "traceback": [
      "\u001b[1;31m---------------------------------------------------------------------------\u001b[0m",
      "\u001b[1;31mNameError\u001b[0m                                 Traceback (most recent call last)",
      "\u001b[1;32m<ipython-input-74-fe307e03848f>\u001b[0m in \u001b[0;36m<module>\u001b[1;34m()\u001b[0m\n\u001b[1;32m----> 1\u001b[1;33m \u001b[0mcompose\u001b[0m\u001b[1;33m\u001b[0m\u001b[0m\n\u001b[0m",
      "\u001b[1;31mNameError\u001b[0m: name 'compose' is not defined"
     ]
    }
   ],
   "source": [
    "batch_compose(dicts, dims = )"
   ]
  },
  {
   "cell_type": "code",
   "execution_count": 57,
   "metadata": {},
   "outputs": [],
   "source": [
    "from  qutip.parallel import parallel_map\n",
    "import time"
   ]
  },
  {
   "cell_type": "code",
   "execution_count": 61,
   "metadata": {},
   "outputs": [],
   "source": [
    "def sweep(function, sweep_variable, sweep_vector, **params):\n",
    "\n",
    "    '''\n",
    "    Sweeps a function in a range of a scalar variable.\n",
    "    '''\n",
    "\n",
    "    if not sweep_variable in list(params.keys()): raise Exception('sweep_variable is not in params')\n",
    "\n",
    "    sweep_results = []\n",
    "    original_values = copy.deepcopy(params) # copy original params values\n",
    "    for sweep_point in sweep_vector:\n",
    "        params[sweep_variable] = sweep_point\n",
    "        sweep_results.append(function(**params))\n",
    "    params = copy.deepcopy(original_values) # restore params to the original values\n",
    "\n",
    "    return {'result': sweep_results, 'variable': sweep_variable, 'vector': sweep_vector}"
   ]
  },
  {
   "cell_type": "code",
   "execution_count": 60,
   "metadata": {},
   "outputs": [
    {
     "data": {
      "application/vnd.jupyter.widget-view+json": {
       "model_id": "",
       "version_major": 2,
       "version_minor": 0
      },
      "text/plain": [
       "FigureCanvasNbAgg()"
      ]
     },
     "metadata": {},
     "output_type": "display_data"
    },
    {
     "name": "stdout",
     "output_type": "stream",
     "text": [
      "17.859259843826294\n"
     ]
    }
   ],
   "source": [
    "t = time.time()\n",
    "\n",
    "\n",
    "def dev_diag(phi_ext = 0):\n",
    "    H  = -Ec*d2phi\n",
    "    H +=  Ej*cos_phi*\n",
    "    H +=  EL*phi2(phi_ext)\n",
    "    \n",
    "    H +=  EL*phi2(phi_ext)\n",
    "\n",
    "    evals, ekets = H.eigenstates()\n",
    "    \n",
    "    return evals, ekets\n",
    "\n",
    "phi_exts = np.linspace(-3, 3, 51)\n",
    "\n",
    "Es0 = []\n",
    "Es1 = []\n",
    "\n",
    "for phi_ext in phi_exts:\n",
    "    evals, ekets = dev_diag(phi_ext)\n",
    "    \n",
    "    Es0.append(evals[0])\n",
    "    Es1.append(evals[1])\n",
    "\n",
    "fig, ax = plt.subplots()\n",
    "ax.plot(phi_exts,Es0, 'o')\n",
    "\n",
    "ax.plot(phi_exts,Es1, 'o')\n",
    "\n",
    "print(time.time() - t)\n",
    "# np.shape(psis)"
   ]
  },
  {
   "cell_type": "code",
   "execution_count": 62,
   "metadata": {},
   "outputs": [
    {
     "ename": "Exception",
     "evalue": "sweep_variable is not in params",
     "output_type": "error",
     "traceback": [
      "\u001b[1;31m---------------------------------------------------------------------------\u001b[0m",
      "\u001b[1;31mException\u001b[0m                                 Traceback (most recent call last)",
      "\u001b[1;32m<ipython-input-62-d83832ae8aa3>\u001b[0m in \u001b[0;36m<module>\u001b[1;34m()\u001b[0m\n\u001b[1;32m----> 1\u001b[1;33m \u001b[0msweep\u001b[0m\u001b[1;33m(\u001b[0m\u001b[0mdev_diag\u001b[0m\u001b[1;33m,\u001b[0m \u001b[0mphi_ext\u001b[0m\u001b[1;33m,\u001b[0m \u001b[0mnp\u001b[0m\u001b[1;33m.\u001b[0m\u001b[0mlinspace\u001b[0m\u001b[1;33m(\u001b[0m\u001b[1;33m-\u001b[0m\u001b[1;36m3\u001b[0m\u001b[1;33m,\u001b[0m \u001b[1;36m3\u001b[0m\u001b[1;33m,\u001b[0m \u001b[1;36m51\u001b[0m\u001b[1;33m)\u001b[0m\u001b[1;33m)\u001b[0m\u001b[1;33m\u001b[0m\u001b[0m\n\u001b[0m",
      "\u001b[1;32m<ipython-input-61-76d281f8d357>\u001b[0m in \u001b[0;36msweep\u001b[1;34m(function, sweep_variable, sweep_vector, **params)\u001b[0m\n\u001b[0;32m      5\u001b[0m     '''\n\u001b[0;32m      6\u001b[0m \u001b[1;33m\u001b[0m\u001b[0m\n\u001b[1;32m----> 7\u001b[1;33m     \u001b[1;32mif\u001b[0m \u001b[1;32mnot\u001b[0m \u001b[0msweep_variable\u001b[0m \u001b[1;32min\u001b[0m \u001b[0mlist\u001b[0m\u001b[1;33m(\u001b[0m\u001b[0mparams\u001b[0m\u001b[1;33m.\u001b[0m\u001b[0mkeys\u001b[0m\u001b[1;33m(\u001b[0m\u001b[1;33m)\u001b[0m\u001b[1;33m)\u001b[0m\u001b[1;33m:\u001b[0m \u001b[1;32mraise\u001b[0m \u001b[0mException\u001b[0m\u001b[1;33m(\u001b[0m\u001b[1;34m'sweep_variable is not in params'\u001b[0m\u001b[1;33m)\u001b[0m\u001b[1;33m\u001b[0m\u001b[0m\n\u001b[0m\u001b[0;32m      8\u001b[0m \u001b[1;33m\u001b[0m\u001b[0m\n\u001b[0;32m      9\u001b[0m     \u001b[0msweep_results\u001b[0m \u001b[1;33m=\u001b[0m \u001b[1;33m[\u001b[0m\u001b[1;33m]\u001b[0m\u001b[1;33m\u001b[0m\u001b[0m\n",
      "\u001b[1;31mException\u001b[0m: sweep_variable is not in params"
     ]
    }
   ],
   "source": [
    "sweep(dev_diag, phi_ext, np.linspace(-3, 3, 51))"
   ]
  },
  {
   "cell_type": "code",
   "execution_count": null,
   "metadata": {},
   "outputs": [],
   "source": [
    "plt.rc('text', usetex=True)\n",
    "plt.rc('font', family='serif')"
   ]
  },
  {
   "cell_type": "code",
   "execution_count": null,
   "metadata": {},
   "outputs": [],
   "source": [
    "phi_max, Nphi = 10*np.pi, 501\n",
    "phi = np.linspace(-phi_max, phi_max, Nphi)\n",
    "\n",
    "dphi = 2*phi_max/Nphi \n",
    "\n",
    "K_mtx = np.diag( -2* np.ones(Nphi) ) + np.diag( np.ones(Nphi - 1 ) , 1) + np.diag( np.ones(Nphi - 1), -1)\n",
    "\n",
    "Ec = 30\n",
    "EL = 0.5\n",
    "Ej = 10\n",
    "\n",
    "phiext_list = np.linspace(0 , np.pi/2, 21)\n",
    "\n",
    "psi0s = []\n",
    "psi1s = []\n",
    "\n",
    "\n",
    "V = Ej* np.cos(phi - 1*np.pi/4)  + EL*(phi)**2   \n",
    "\n",
    "H = -Ec*K_mtx/dphi**2 + np.diag(V)\n",
    "\n",
    "evals, evecs = solve_eigenproblem(H)\n",
    "\n",
    "fig, ax = plt.subplots()\n",
    "\n",
    "\n",
    "a = -50\n",
    "\n",
    "psi0 = a*evecs[0] +  evals[0]\n",
    "psi1 = a*evecs[1] +  evals[1]\n",
    "\n",
    "\n",
    "\n",
    "ax.plot(phi, psi0)\n",
    "ax.plot(phi, -psi1)\n",
    "\n",
    "ax2 = ax.twinx()\n",
    "# ax2.plot(phi[400:-400], V[400:-400], '--b', alpha = 0.2)\n",
    "ax.plot(phi[abs(phi)<7], V[abs(phi)<7], '--b', alpha = 0.2)\n"
   ]
  },
  {
   "cell_type": "code",
   "execution_count": null,
   "metadata": {},
   "outputs": [],
   "source": []
  },
  {
   "cell_type": "markdown",
   "metadata": {},
   "source": [
    "## lambds scan"
   ]
  },
  {
   "cell_type": "code",
   "execution_count": 3,
   "metadata": {},
   "outputs": [
    {
     "data": {
      "application/vnd.jupyter.widget-view+json": {
       "model_id": "d98ef01c83564e69bb648140f21ac5b6",
       "version_major": 2,
       "version_minor": 0
      },
      "text/plain": [
       "HBox(children=(IntProgress(value=0, max=201), HTML(value='')))"
      ]
     },
     "metadata": {},
     "output_type": "display_data"
    },
    {
     "name": "stdout",
     "output_type": "stream",
     "text": [
      "\n"
     ]
    }
   ],
   "source": [
    "phi_max, Nphi = 10*np.pi, 501\n",
    "phi = np.linspace(-phi_max, phi_max, Nphi)\n",
    "\n",
    "dphi = 2*phi_max/Nphi \n",
    "\n",
    "K_mtx = np.diag( -2* np.ones(Nphi) ) + np.diag( np.ones(Nphi - 1 ) , 1) + np.diag( np.ones(Nphi - 1), -1)\n",
    "\n",
    "Ec = 15\n",
    "EL = 0.5\n",
    "Ej = 15\n",
    "\n",
    "\n",
    "Nframes = 201\n",
    "phiext_list = np.linspace(-np.pi/2, np.pi/4, Nframes)\n",
    "\n",
    "psi0s = []\n",
    "psi1s = []\n",
    "\n",
    "E0s = []\n",
    "E1s = []\n",
    "\n",
    "Vs = []\n",
    "\n",
    "a = -50\n",
    "\n",
    "tphiext_list = tqdm_notebook(phiext_list)\n",
    "\n",
    "for phiext in tphiext_list:\n",
    "    V = Ej* np.cos(phi - phiext)  + EL*(phi)**2   \n",
    "\n",
    "    H = -Ec*K_mtx/dphi**2 + np.diag(V)\n",
    "\n",
    "    evals, evecs = solve_eigenproblem(H)\n",
    "\n",
    "    psi0 = -a*evecs[0] \n",
    "    psi1 = a*evecs[1] \n",
    "\n",
    "    E0 =  evals[0]\n",
    "    E1 =  evals[1]\n",
    "\n",
    "    \n",
    "    psi0s.append(psi0)\n",
    "    psi1s.append(psi1)\n",
    "\n",
    "    E0s.append( E0 )\n",
    "    E1s.append( E1 )\n",
    "    \n",
    "    Vs.append( V )\n",
    "    "
   ]
  },
  {
   "cell_type": "code",
   "execution_count": 4,
   "metadata": {
    "scrolled": false
   },
   "outputs": [
    {
     "data": {
      "application/vnd.jupyter.widget-view+json": {
       "model_id": "3a8b17ffc88a45d7bcb55d0fbb8357b1",
       "version_major": 2,
       "version_minor": 0
      },
      "text/plain": [
       "FigureCanvasNbAgg()"
      ]
     },
     "metadata": {},
     "output_type": "display_data"
    },
    {
     "name": "stderr",
     "output_type": "stream",
     "text": [
      "MovieWriter ffmpeg unavailable; trying to use <class 'matplotlib.animation.PillowWriter'> instead.\n"
     ]
    }
   ],
   "source": [
    "from matplotlib.animation import FuncAnimation, PillowWriter\n",
    "\n",
    "fig, (ax, ax1) = plt.subplots(1,2, figsize=(7, 4), sharey = False)\n",
    "\n",
    "fs = 20\n",
    "\n",
    "ax.set_xticklabels([])\n",
    "ax.set_yticklabels([])\n",
    "\n",
    "ax.set_xlabel(r'$\\phi$', fontsize = fs)\n",
    "ax.set_ylabel(r'$\\Psi(\\phi)$', fontsize = fs)\n",
    "\n",
    "\n",
    "\n",
    "ax1.set_yticks([])\n",
    "\n",
    "ax2 = ax1.twinx()\n",
    "ax1.set_xticklabels([])\n",
    "ax2.set_yticklabels([])\n",
    "\n",
    "ax1.set_xlabel(r'$\\lambda$', fontsize = fs)\n",
    "ax2.set_ylabel(r'$E_i$', fontsize = fs)\n",
    "\n",
    "\n",
    "line1, = ax.plot(phi /2/np.pi,  psi0s[0] + E0s[0], c = 'C0', label = r'$|g\\rangle$')\n",
    "line2, = ax.plot(phi /2/np.pi,  psi1s[0] + E1s[0], c = 'C1', label = r'$|e\\rangle$')\n",
    "\n",
    "\n",
    "ax.legend(loc = 3, fontsize = 15)\n",
    "\n",
    "ax2.plot(phiext_list, E0s , label = r'$E_g$' )\n",
    "ax2.plot(phiext_list, E1s , label = r'$E_e$' )\n",
    "\n",
    "ax2.legend(loc = 1, fontsize = 15)\n",
    "\n",
    "m1, = ax2.plot([phiext_list[0]],  [E0s[0]], c = 'C0', marker = 'x')\n",
    "m2, = ax2.plot([phiext_list[1]],  [E1s[1]], c = 'C1', marker = 'x')\n",
    "\n",
    "line3, = ax.plot(phi /2/np.pi, Vs[0], '--k', alpha = 0.2)\n",
    "\n",
    "signs = [np.sign(psi0s[0][Nphi//2+15]),\n",
    "         np.sign(psi0s[1][Nphi//2+15])]\n",
    "\n",
    "ax.set_xlim(-2.25,2.25)\n",
    "ax.set_ylim(-20,25)\n",
    "\n",
    "plt.tight_layout()\n",
    "\n",
    "lines = [line1, line2, line3]\n",
    "\n",
    "markers = [m1, m2]\n",
    "\n",
    "psis = [psi0s, psi1s, Vs]\n",
    "\n",
    "Es = [E0s, E1s]\n",
    "\n",
    "def update(j):\n",
    "    \n",
    "    for l, ps,E, sign in zip(lines, psis,Es, signs):\n",
    "        psi = np.array(ps[j])\n",
    "        x = phi /2/pi\n",
    "\n",
    "        y = 1*psi*sign*np.sign(psi[Nphi//2+15])\n",
    "    \n",
    "        l.set_data(x , y + E[j])\n",
    "        \n",
    "    lines[2].set_data(x , Vs[j])\n",
    "    \n",
    "    \n",
    "    for m, E in zip(markers, Es):\n",
    "         \n",
    "        x = phiext_list[j]\n",
    "\n",
    "        y = E[j]\n",
    "    \n",
    "        m.set_data(x , y)\n",
    "     \n",
    "\n",
    "    return lines, markers, ax, ax2\n",
    "\n",
    "\n",
    "fig.savefig('wf_static.png')    \n",
    "    \n",
    "anim = FuncAnimation(fig, update, frames=np.arange(0, 2*Nframes//3), interval=20,repeat=False)\n",
    "\n",
    "anim.save('wf.gif')"
   ]
  },
  {
   "cell_type": "code",
   "execution_count": 78,
   "metadata": {},
   "outputs": [],
   "source": [
    "plt.close('all')"
   ]
  },
  {
   "cell_type": "markdown",
   "metadata": {},
   "source": [
    "## EL scan"
   ]
  },
  {
   "cell_type": "code",
   "execution_count": 6,
   "metadata": {},
   "outputs": [
    {
     "data": {
      "text/plain": [
       "50"
      ]
     },
     "execution_count": 6,
     "metadata": {},
     "output_type": "execute_result"
    }
   ],
   "source": [
    "201//4"
   ]
  },
  {
   "cell_type": "code",
   "execution_count": 5,
   "metadata": {},
   "outputs": [
    {
     "data": {
      "application/vnd.jupyter.widget-view+json": {
       "model_id": "121ef38a9b80445c8dd90a99e5ce49ea",
       "version_major": 2,
       "version_minor": 0
      },
      "text/plain": [
       "HBox(children=(IntProgress(value=0, max=201), HTML(value='')))"
      ]
     },
     "metadata": {},
     "output_type": "display_data"
    },
    {
     "name": "stdout",
     "output_type": "stream",
     "text": [
      "\n"
     ]
    }
   ],
   "source": [
    "phi_max, Nphi = 10*np.pi, 201\n",
    "phi = np.linspace(-phi_max, phi_max, Nphi)\n",
    "\n",
    "dphi = 2*phi_max/Nphi \n",
    "\n",
    "K_mtx = np.diag( -2* np.ones(Nphi) ) + np.diag( np.ones(Nphi - 1 ) , 1) + np.diag( np.ones(Nphi - 1), -1)\n",
    "\n",
    "Ec = 15\n",
    "# EL = 0.5\n",
    "phiext0 = -np.pi/4\n",
    "\n",
    "\n",
    "Ej = 15\n",
    "\n",
    "\n",
    "Nframes = 201\n",
    "\n",
    "\n",
    "EL_list = np.logspace(-0.3, -3, Nframes)\n",
    "phiext_list = np.linspace(-np.pi/2, np.pi/4, 101)\n",
    "\n",
    "psi0s = []\n",
    "psi1s = []\n",
    "\n",
    "E0s = []\n",
    "E1s = []\n",
    "\n",
    "\n",
    "\n",
    "band0s = []\n",
    "band1s = []\n",
    "\n",
    "Vs = []\n",
    "\n",
    "a = -50\n",
    "\n",
    "tEL_list = tqdm_notebook(EL_list)\n",
    "\n",
    "for EL in tEL_list:\n",
    "    V = Ej* np.cos(phi - phiext0)  + EL*(phi)**2   \n",
    "\n",
    "    H = -Ec*K_mtx/dphi**2 + np.diag(V)\n",
    "\n",
    "    evals, evecs = solve_eigenproblem(H)\n",
    "\n",
    "    psi0 = -a*evecs[0] \n",
    "    psi1 = a*evecs[1] \n",
    "\n",
    "    E0 =  evals[0]\n",
    "    E1 =  evals[1]\n",
    "\n",
    "    \n",
    "    psi0s.append(psi0)\n",
    "    psi1s.append(psi1)\n",
    "\n",
    "    E0s.append( E0 )\n",
    "    E1s.append( E1 )\n",
    "    \n",
    "    Vs.append( V )\n",
    "    \n",
    "    \n",
    "    band0 = []\n",
    "    band1 = []\n",
    "    for phiext in phiext_list:\n",
    "        V = Ej* np.cos(phi - phiext)  + EL*(phi)**2   \n",
    "\n",
    "        H = -Ec*K_mtx/dphi**2 + np.diag(V)\n",
    "\n",
    "        evals, evecs = solve_eigenproblem(H)\n",
    "        \n",
    "        band0.append(evals[0])\n",
    "        band1.append(evals[1])\n",
    "    \n",
    "    band0s.append(band0)\n",
    "    band1s.append(band1)\n"
   ]
  },
  {
   "cell_type": "code",
   "execution_count": 21,
   "metadata": {
    "scrolled": false
   },
   "outputs": [
    {
     "data": {
      "application/vnd.jupyter.widget-view+json": {
       "model_id": "8b75e9bb6d7140769dd1b72e380f8db2",
       "version_major": 2,
       "version_minor": 0
      },
      "text/plain": [
       "FigureCanvasNbAgg()"
      ]
     },
     "metadata": {},
     "output_type": "display_data"
    },
    {
     "name": "stderr",
     "output_type": "stream",
     "text": [
      "MovieWriter ffmpeg unavailable; trying to use <class 'matplotlib.animation.PillowWriter'> instead.\n"
     ]
    }
   ],
   "source": [
    "from matplotlib.animation import FuncAnimation, PillowWriter\n",
    "\n",
    "fig, (ax, ax1) = plt.subplots(1,2, figsize=(7, 4), sharey = False)\n",
    "\n",
    "fs = 20\n",
    "\n",
    "ax.set_xticklabels([])\n",
    "ax.set_yticklabels([])\n",
    "\n",
    "ax.set_xlabel(r'$\\phi$', fontsize = fs)\n",
    "ax.set_ylabel(r'$\\Psi(\\phi)$', fontsize = fs)\n",
    "\n",
    "\n",
    "\n",
    "ax1.set_yticks([])\n",
    "\n",
    "ax2 = ax1.twinx()\n",
    "ax1.set_xticklabels([])\n",
    "ax2.set_yticklabels([])\n",
    "\n",
    "ax1.set_xlabel(r'$\\lambda$', fontsize = fs)\n",
    "ax2.set_ylabel(r'$E_i$', fontsize = fs)\n",
    "\n",
    "line1, = ax.plot(phi /2/np.pi,  psi0s[0] + 0*E0s[0], c = 'C0', label = r'$|g\\rangle$')\n",
    "line2, = ax.plot(phi /2/np.pi,  psi1s[0] + 0*E1s[0], c = 'C1', label = r'$|e\\rangle$')\n",
    "\n",
    "ax.legend(loc = 3, fontsize = 15)\n",
    "\n",
    "\n",
    "line21, = ax2.plot(phiext_list, band0s[0] - band0s[0][0], label = r'$E_g$'  )\n",
    "line22, = ax2.plot(phiext_list, band1s[1] - band0s[0][0], label = r'$E_e$' )\n",
    "\n",
    "ax2.legend( loc = 1, fontsize = 15)\n",
    "\n",
    "# ax2.set_title(r'$E_L = $' + '{:1.2g}'.format(EL_list[0]))\n",
    "\n",
    "m1, = ax2.plot([phiext0],  [E0s[0] - band0s[0][0]], 'x', c = 'C0')\n",
    "m2, = ax2.plot([phiext0],  [E1s[0] - band0s[0][0]], 'x', c = 'C1')\n",
    "\n",
    "# m1, = ax2.plot([phiext_list[0]],  [E0s[0]], c = 'C0', marker = 'x')\n",
    "# m2, = ax2.plot([phiext_list[1]],  [E1s[1]], c = 'C1', marker = 'x')\n",
    "\n",
    "line3, = ax.plot(phi /2/np.pi, Vs[0] - E0s[0], '--k', alpha = 0.2)\n",
    "\n",
    "signs = [np.sign(psi0s[0][Nphi//2+15]),\n",
    "         -np.sign(psi0s[1][Nphi//2+15])]\n",
    "\n",
    "ax.set_xlim(-2.25,2.25)\n",
    "ax.set_ylim(-20,25)\n",
    "\n",
    "\n",
    "\n",
    "plt.tight_layout()\n",
    "\n",
    "lines = [line1, line2, line3]\n",
    "\n",
    "line2s = [line21, line22]\n",
    "\n",
    "markers = [m1, m2]\n",
    "\n",
    "psis = [psi0s, psi1s, Vs]\n",
    "\n",
    "Es = [E0s, E1s]\n",
    "\n",
    "bands = [band0s, band1s]\n",
    "\n",
    "def update(j):\n",
    "    \n",
    "    for l, ps,E, sign in zip(lines, psis,Es, signs):\n",
    "        psi = np.array(ps[j])\n",
    "        x = phi /2/pi\n",
    "\n",
    "        y = 1*psi*sign*np.sign(psi[Nphi//2+15])\n",
    "    \n",
    "        l.set_data(x , y + 0*E[j])\n",
    "        \n",
    "    lines[2].set_data(x , Vs[j] - E[j])\n",
    "    \n",
    "    \n",
    "    for l, band in zip(line2s, bands):\n",
    "         \n",
    "        x = phiext_list\n",
    "\n",
    "        y = np.array(band[j]) - np.array(band0s)[j,0]\n",
    "    \n",
    "        l.set_data(x , y)\n",
    "\n",
    "        \n",
    "        \n",
    "    for m, E in zip(markers, Es):\n",
    "         \n",
    "        x = [phiext0]\n",
    "\n",
    "        y = [E[j] - band0s[j][0]]\n",
    "    \n",
    "        m.set_data(x , y)        \n",
    "        \n",
    "#     ax2.set_title(r'$E_L = $' + '{:1.2g}'.format(EL_list[j]))\n",
    "    return lines, markers, ax, ax2\n",
    "\n",
    "\n",
    "    \n",
    "    \n",
    "anim = FuncAnimation(fig, update, frames=np.arange(0, Nframes), interval=20, repeat=False)\n",
    "\n",
    "anim.save('wf1.gif')"
   ]
  },
  {
   "cell_type": "code",
   "execution_count": null,
   "metadata": {},
   "outputs": [],
   "source": []
  }
 ],
 "metadata": {
  "kernelspec": {
   "display_name": "Python 3",
   "language": "python",
   "name": "python3"
  },
  "language_info": {
   "codemirror_mode": {
    "name": "ipython",
    "version": 3
   },
   "file_extension": ".py",
   "mimetype": "text/x-python",
   "name": "python",
   "nbconvert_exporter": "python",
   "pygments_lexer": "ipython3",
   "version": "3.6.5"
  },
  "toc": {
   "base_numbering": 1,
   "nav_menu": {},
   "number_sections": true,
   "sideBar": true,
   "skip_h1_title": false,
   "title_cell": "Table of Contents",
   "title_sidebar": "Contents",
   "toc_cell": false,
   "toc_position": {
    "height": "47.1833px",
    "left": "10px",
    "top": "150px",
    "width": "165px"
   },
   "toc_section_display": true,
   "toc_window_display": true
  }
 },
 "nbformat": 4,
 "nbformat_minor": 2
}
