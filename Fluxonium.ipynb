{
 "cells": [
  {
   "cell_type": "code",
   "execution_count": 1,
   "metadata": {},
   "outputs": [],
   "source": [
    "%matplotlib widget\n",
    "import matplotlib.pyplot as plt\n",
    "import numpy as np\n",
    "\n",
    "from tqdm import tqdm, tqdm_notebook\n",
    "\n",
    "from wavefunction1d import solve_eigenproblem\n",
    "\n",
    "pi = np.pi"
   ]
  },
  {
   "cell_type": "code",
   "execution_count": 3,
   "metadata": {},
   "outputs": [],
   "source": [
    "# QuTip\n",
    "from qutip import Options, Qobj, basis, destroy, create, qeye, tensor, Cubic_Spline"
   ]
  },
  {
   "cell_type": "code",
   "execution_count": 2,
   "metadata": {},
   "outputs": [
    {
     "data": {
      "application/vnd.jupyter.widget-view+json": {
       "model_id": "a01b410e3a3a4d85804c55c12e14c9ed",
       "version_major": 2,
       "version_minor": 0
      },
      "text/plain": [
       "FigureCanvasNbAgg()"
      ]
     },
     "metadata": {},
     "output_type": "display_data"
    },
    {
     "data": {
      "text/plain": [
       "[<matplotlib.lines.Line2D at 0x1da6ff47240>]"
      ]
     },
     "execution_count": 2,
     "metadata": {},
     "output_type": "execute_result"
    }
   ],
   "source": [
    "phi_max, Nphi = 10*np.pi, 501\n",
    "phi = np.linspace(-phi_max, phi_max, Nphi)\n",
    "\n",
    "dphi = 2*phi_max/Nphi \n",
    "\n",
    "K_mtx = np.diag( -2* np.ones(Nphi) ) + np.diag( np.ones(Nphi - 1 ) , 1) + np.diag( np.ones(Nphi - 1), -1)\n",
    "\n",
    "Ec = 30\n",
    "EL = 0.5\n",
    "Ej = 10\n",
    "\n",
    "phiext_list = np.linspace(0 , np.pi/2, 21)\n",
    "\n",
    "psi0s = []\n",
    "psi1s = []\n",
    "\n",
    "\n",
    "V = Ej* np.cos(phi - 1*np.pi/4)  + EL*(phi)**2   \n",
    "\n",
    "H = -Ec*K_mtx/dphi**2 + np.diag(V)\n",
    "\n",
    "evals, evecs = solve_eigenproblem(H)\n",
    "\n",
    "fig, ax = plt.subplots()\n",
    "\n",
    "\n",
    "a = -50\n",
    "\n",
    "psi0 = a*evecs[0] +  evals[0]\n",
    "psi1 = a*evecs[1] +  evals[1]\n",
    "\n",
    "\n",
    "\n",
    "ax.plot(phi, psi0)\n",
    "ax.plot(phi, -psi1)\n",
    "\n",
    "ax2 = ax.twinx()\n",
    "# ax2.plot(phi[400:-400], V[400:-400], '--b', alpha = 0.2)\n",
    "ax.plot(phi[abs(phi)<7], V[abs(phi)<7], '--b', alpha = 0.2)\n"
   ]
  },
  {
   "cell_type": "code",
   "execution_count": null,
   "metadata": {},
   "outputs": [],
   "source": []
  },
  {
   "cell_type": "markdown",
   "metadata": {},
   "source": [
    "## lambds scan"
   ]
  },
  {
   "cell_type": "code",
   "execution_count": 3,
   "metadata": {},
   "outputs": [
    {
     "data": {
      "application/vnd.jupyter.widget-view+json": {
       "model_id": "b1337502ec004ed2a1c0e351e4d70b29",
       "version_major": 2,
       "version_minor": 0
      },
      "text/plain": [
       "HBox(children=(IntProgress(value=0, max=201), HTML(value='')))"
      ]
     },
     "metadata": {},
     "output_type": "display_data"
    },
    {
     "name": "stdout",
     "output_type": "stream",
     "text": [
      "\n"
     ]
    }
   ],
   "source": [
    "phi_max, Nphi = 10*np.pi, 501\n",
    "phi = np.linspace(-phi_max, phi_max, Nphi)\n",
    "\n",
    "dphi = 2*phi_max/Nphi \n",
    "\n",
    "K_mtx = np.diag( -2* np.ones(Nphi) ) + np.diag( np.ones(Nphi - 1 ) , 1) + np.diag( np.ones(Nphi - 1), -1)\n",
    "\n",
    "Ec = 15\n",
    "EL = 0.5\n",
    "Ej = 15\n",
    "\n",
    "\n",
    "Nframes = 201\n",
    "phiext_list = np.linspace(-np.pi/2, np.pi/4, Nframes)\n",
    "\n",
    "psi0s = []\n",
    "psi1s = []\n",
    "\n",
    "E0s = []\n",
    "E1s = []\n",
    "\n",
    "Vs = []\n",
    "\n",
    "a = -50\n",
    "\n",
    "tphiext_list = tqdm_notebook(phiext_list)\n",
    "\n",
    "for phiext in tphiext_list:\n",
    "    V = Ej* np.cos(phi - phiext)  + EL*(phi)**2   \n",
    "\n",
    "    H = -Ec*K_mtx/dphi**2 + np.diag(V)\n",
    "\n",
    "    evals, evecs = solve_eigenproblem(H)\n",
    "\n",
    "    psi0 = -a*evecs[0] \n",
    "    psi1 = a*evecs[1] \n",
    "\n",
    "    E0 =  evals[0]\n",
    "    E1 =  evals[1]\n",
    "\n",
    "    \n",
    "    psi0s.append(psi0)\n",
    "    psi1s.append(psi1)\n",
    "\n",
    "    E0s.append( E0 )\n",
    "    E1s.append( E1 )\n",
    "    \n",
    "    Vs.append( V )\n",
    "    "
   ]
  },
  {
   "cell_type": "code",
   "execution_count": 11,
   "metadata": {
    "scrolled": false
   },
   "outputs": [
    {
     "data": {
      "application/vnd.jupyter.widget-view+json": {
       "model_id": "e18380fd26e943f3991b50d6e4ce4ae3",
       "version_major": 2,
       "version_minor": 0
      },
      "text/plain": [
       "FigureCanvasNbAgg()"
      ]
     },
     "metadata": {},
     "output_type": "display_data"
    },
    {
     "name": "stderr",
     "output_type": "stream",
     "text": [
      "MovieWriter ffmpeg unavailable; trying to use <class 'matplotlib.animation.PillowWriter'> instead.\n"
     ]
    }
   ],
   "source": [
    "from matplotlib.animation import FuncAnimation, PillowWriter\n",
    "\n",
    "fig, (ax, ax2) = plt.subplots(1,2, figsize=(7, 4), sharey = False)\n",
    "\n",
    "\n",
    "ax.set_xticklabels([])\n",
    "ax.set_yticklabels([])\n",
    "\n",
    "ax2.set_xticklabels([])\n",
    "ax2.set_yticklabels([])\n",
    "\n",
    "\n",
    "\n",
    "\n",
    "line1, = ax.plot(phi /2/np.pi,  psi0s[0] + E0s[0], c = 'C0')\n",
    "line2, = ax.plot(phi /2/np.pi,  psi1s[0] + E1s[0], c = 'C1')\n",
    "\n",
    "\n",
    "\n",
    "\n",
    "ax2.plot(phiext_list, E0s )\n",
    "ax2.plot(phiext_list, E1s )\n",
    "\n",
    "m1, = ax2.plot([phiext_list[0]],  [E0s[0]], c = 'C0', marker = 'x')\n",
    "m2, = ax2.plot([phiext_list[1]],  [E1s[1]], c = 'C1', marker = 'x')\n",
    "\n",
    "line3, = ax.plot(phi /2/np.pi, Vs[0], '--k', alpha = 0.2)\n",
    "\n",
    "signs = [np.sign(psi0s[0][Nphi//2+15]),\n",
    "         np.sign(psi0s[1][Nphi//2+15])]\n",
    "\n",
    "ax.set_xlim(-2.25,2.25)\n",
    "ax.set_ylim(-20,25)\n",
    "\n",
    "plt.tight_layout()\n",
    "\n",
    "lines = [line1, line2, line3]\n",
    "\n",
    "markers = [m1, m2]\n",
    "\n",
    "psis = [psi0s, psi1s, Vs]\n",
    "\n",
    "Es = [E0s, E1s]\n",
    "\n",
    "def update(j):\n",
    "    \n",
    "    for l, ps,E, sign in zip(lines, psis,Es, signs):\n",
    "        psi = np.array(ps[j])\n",
    "        x = phi /2/pi\n",
    "\n",
    "        y = 1*psi*sign*np.sign(psi[Nphi//2+15])\n",
    "    \n",
    "        l.set_data(x , y + E[j])\n",
    "        \n",
    "    lines[2].set_data(x , Vs[j])\n",
    "    \n",
    "    \n",
    "    for m, E in zip(markers, Es):\n",
    "         \n",
    "        x = phiext_list[j]\n",
    "\n",
    "        y = E[j]\n",
    "    \n",
    "        m.set_data(x , y)\n",
    "     \n",
    "\n",
    "    return lines, markers, ax, ax2\n",
    "\n",
    "\n",
    "    \n",
    "    \n",
    "anim = FuncAnimation(fig, update, frames=np.arange(0, 2*Nframes//3), interval=20,repeat=False)\n",
    "\n",
    "anim.save('wf.gif')"
   ]
  },
  {
   "cell_type": "code",
   "execution_count": 78,
   "metadata": {},
   "outputs": [],
   "source": [
    "plt.close('all')"
   ]
  },
  {
   "cell_type": "markdown",
   "metadata": {},
   "source": [
    "## EL scan"
   ]
  },
  {
   "cell_type": "code",
   "execution_count": 6,
   "metadata": {},
   "outputs": [
    {
     "data": {
      "text/plain": [
       "50"
      ]
     },
     "execution_count": 6,
     "metadata": {},
     "output_type": "execute_result"
    }
   ],
   "source": [
    "201//4"
   ]
  },
  {
   "cell_type": "code",
   "execution_count": 12,
   "metadata": {},
   "outputs": [
    {
     "data": {
      "application/vnd.jupyter.widget-view+json": {
       "model_id": "cf50654f66eb4764b39cb03661e6feec",
       "version_major": 2,
       "version_minor": 0
      },
      "text/plain": [
       "HBox(children=(IntProgress(value=0, max=201), HTML(value='')))"
      ]
     },
     "metadata": {},
     "output_type": "display_data"
    },
    {
     "name": "stdout",
     "output_type": "stream",
     "text": [
      "\n"
     ]
    }
   ],
   "source": [
    "phi_max, Nphi = 10*np.pi, 201\n",
    "phi = np.linspace(-phi_max, phi_max, Nphi)\n",
    "\n",
    "dphi = 2*phi_max/Nphi \n",
    "\n",
    "K_mtx = np.diag( -2* np.ones(Nphi) ) + np.diag( np.ones(Nphi - 1 ) , 1) + np.diag( np.ones(Nphi - 1), -1)\n",
    "\n",
    "Ec = 15\n",
    "# EL = 0.5\n",
    "phiext0 = -np.pi/4\n",
    "\n",
    "\n",
    "Ej = 15\n",
    "\n",
    "\n",
    "Nframes = 201\n",
    "\n",
    "\n",
    "EL_list = np.logspace(-0.3, -3, Nframes)\n",
    "phiext_list = np.linspace(-np.pi/2, np.pi/4, 101)\n",
    "\n",
    "psi0s = []\n",
    "psi1s = []\n",
    "\n",
    "E0s = []\n",
    "E1s = []\n",
    "\n",
    "\n",
    "\n",
    "band0s = []\n",
    "band1s = []\n",
    "\n",
    "Vs = []\n",
    "\n",
    "a = -50\n",
    "\n",
    "tEL_list = tqdm_notebook(EL_list)\n",
    "\n",
    "for EL in tEL_list:\n",
    "    V = Ej* np.cos(phi - phiext0)  + EL*(phi)**2   \n",
    "\n",
    "    H = -Ec*K_mtx/dphi**2 + np.diag(V)\n",
    "\n",
    "    evals, evecs = solve_eigenproblem(H)\n",
    "\n",
    "    psi0 = -a*evecs[0] \n",
    "    psi1 = a*evecs[1] \n",
    "\n",
    "    E0 =  evals[0]\n",
    "    E1 =  evals[1]\n",
    "\n",
    "    \n",
    "    psi0s.append(psi0)\n",
    "    psi1s.append(psi1)\n",
    "\n",
    "    E0s.append( E0 )\n",
    "    E1s.append( E1 )\n",
    "    \n",
    "    Vs.append( V )\n",
    "    \n",
    "    \n",
    "    band0 = []\n",
    "    band1 = []\n",
    "    for phiext in phiext_list:\n",
    "        V = Ej* np.cos(phi - phiext)  + EL*(phi)**2   \n",
    "\n",
    "        H = -Ec*K_mtx/dphi**2 + np.diag(V)\n",
    "\n",
    "        evals, evecs = solve_eigenproblem(H)\n",
    "        \n",
    "        band0.append(evals[0])\n",
    "        band1.append(evals[1])\n",
    "    \n",
    "    band0s.append(band0)\n",
    "    band1s.append(band1)\n"
   ]
  },
  {
   "cell_type": "code",
   "execution_count": 14,
   "metadata": {
    "scrolled": false
   },
   "outputs": [
    {
     "data": {
      "application/vnd.jupyter.widget-view+json": {
       "model_id": "4afccbfccd074ddbaf8e21d714ca7fff",
       "version_major": 2,
       "version_minor": 0
      },
      "text/plain": [
       "FigureCanvasNbAgg()"
      ]
     },
     "metadata": {},
     "output_type": "display_data"
    },
    {
     "name": "stderr",
     "output_type": "stream",
     "text": [
      "MovieWriter ffmpeg unavailable; trying to use <class 'matplotlib.animation.PillowWriter'> instead.\n"
     ]
    }
   ],
   "source": [
    "from matplotlib.animation import FuncAnimation, PillowWriter\n",
    "\n",
    "fig, (ax, ax2) = plt.subplots(1,2, figsize=(7, 4), sharey = False)\n",
    "\n",
    "\n",
    "ax.set_xticklabels([])\n",
    "ax.set_yticklabels([])\n",
    "\n",
    "ax2.set_xticklabels([])\n",
    "ax2.set_yticklabels([])\n",
    "\n",
    "line1, = ax.plot(phi /2/np.pi,  psi0s[0] + 0*E0s[0], c = 'C0')\n",
    "line2, = ax.plot(phi /2/np.pi,  psi1s[0] + 0*E1s[0], c = 'C1')\n",
    "\n",
    "\n",
    "\n",
    "\n",
    "line21, = ax2.plot(phiext_list, band0s[0] - band0s[0][0]  )\n",
    "line22, = ax2.plot(phiext_list, band1s[1] - band0s[0][0] )\n",
    "\n",
    "\n",
    "m1, = ax2.plot([phiext0],  [E0s[0] - band0s[0][0]], 'x', c = 'C0')\n",
    "m2, = ax2.plot([phiext0],  [E1s[0] - band0s[0][0]], 'x', c = 'C1')\n",
    "\n",
    "# m1, = ax2.plot([phiext_list[0]],  [E0s[0]], c = 'C0', marker = 'x')\n",
    "# m2, = ax2.plot([phiext_list[1]],  [E1s[1]], c = 'C1', marker = 'x')\n",
    "\n",
    "line3, = ax.plot(phi /2/np.pi, Vs[0] - E0s[0], '--k', alpha = 0.2)\n",
    "\n",
    "signs = [np.sign(psi0s[0][Nphi//2+15]),\n",
    "         -np.sign(psi0s[1][Nphi//2+15])]\n",
    "\n",
    "ax.set_xlim(-2.25,2.25)\n",
    "ax.set_ylim(-20,25)\n",
    "\n",
    "plt.tight_layout()\n",
    "\n",
    "lines = [line1, line2, line3]\n",
    "\n",
    "line2s = [line21, line22]\n",
    "\n",
    "markers = [m1, m2]\n",
    "\n",
    "psis = [psi0s, psi1s, Vs]\n",
    "\n",
    "Es = [E0s, E1s]\n",
    "\n",
    "bands = [band0s, band1s]\n",
    "\n",
    "def update(j):\n",
    "    \n",
    "    for l, ps,E, sign in zip(lines, psis,Es, signs):\n",
    "        psi = np.array(ps[j])\n",
    "        x = phi /2/pi\n",
    "\n",
    "        y = 1*psi*sign*np.sign(psi[Nphi//2+15])\n",
    "    \n",
    "        l.set_data(x , y + 0*E[j])\n",
    "        \n",
    "    lines[2].set_data(x , Vs[j] - E[j])\n",
    "    \n",
    "    \n",
    "    for l, band in zip(line2s, bands):\n",
    "         \n",
    "        x = phiext_list\n",
    "\n",
    "        y = np.array(band[j]) - np.array(band0s)[j,0]\n",
    "    \n",
    "        l.set_data(x , y)\n",
    "\n",
    "        \n",
    "        \n",
    "    for m, E in zip(markers, Es):\n",
    "         \n",
    "        x = [phiext0]\n",
    "\n",
    "        y = [E[j] - band0s[j][0]]\n",
    "    \n",
    "        m.set_data(x , y)        \n",
    "        \n",
    "\n",
    "    return lines, markers, ax, ax2\n",
    "\n",
    "\n",
    "    \n",
    "    \n",
    "anim = FuncAnimation(fig, update, frames=np.arange(0, Nframes), interval=20, repeat=False)\n",
    "\n",
    "anim.save('wf1.gif')"
   ]
  },
  {
   "cell_type": "code",
   "execution_count": null,
   "metadata": {},
   "outputs": [],
   "source": []
  }
 ],
 "metadata": {
  "kernelspec": {
   "display_name": "Python 3",
   "language": "python",
   "name": "python3"
  },
  "language_info": {
   "codemirror_mode": {
    "name": "ipython",
    "version": 3
   },
   "file_extension": ".py",
   "mimetype": "text/x-python",
   "name": "python",
   "nbconvert_exporter": "python",
   "pygments_lexer": "ipython3",
   "version": "3.6.5"
  },
  "toc": {
   "base_numbering": 1,
   "nav_menu": {},
   "number_sections": true,
   "sideBar": true,
   "skip_h1_title": false,
   "title_cell": "Table of Contents",
   "title_sidebar": "Contents",
   "toc_cell": false,
   "toc_position": {
    "height": "47.1833px",
    "left": "10px",
    "top": "150px",
    "width": "165px"
   },
   "toc_section_display": true,
   "toc_window_display": true
  }
 },
 "nbformat": 4,
 "nbformat_minor": 2
}
